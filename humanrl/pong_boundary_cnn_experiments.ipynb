{
 "cells": [
  {
   "cell_type": "code",
   "execution_count": 8,
   "metadata": {
    "collapsed": false,
    "scrolled": true
   },
   "outputs": [],
   "source": [
    "import frame\n",
    "from classifier_tf import DataLoader\n",
    "import pong_catastrophe\n",
    "\n",
    "episode_paths = frame.episode_paths('PongDeterministic-v3-Episodes/')\n",
    "penalty_episode_paths = frame.episode_paths('pong_frames_penalty/')\n",
    "\n",
    "def get_episodes(episode_paths):\n",
    "    episodes = []\n",
    "    for path in episode_paths:\n",
    "        episodes.append(frame.load_episode(path))\n",
    "    return episodes\n",
    "\n",
    "import numpy as np\n",
    "import matplotlib.pyplot as plt\n",
    "%matplotlib inline\n",
    "import cv2\n",
    "    \n",
    "np.random.seed(seed=42)\n",
    "np.random.shuffle(episode_paths)\n",
    "np.random.shuffle(penalty_episode_paths)\n",
    "#data_loader = DataLoader(pong_catastrophe.PongClassifierLabeller())\n",
    "#dataset_paths = data_loader.split_episodes(episode_paths, 1, 1, 1)\n",
    "#datasets = [get_episodes(paths) for paths in dataset_paths]"
   ]
  },
  {
   "cell_type": "code",
   "execution_count": 9,
   "metadata": {
    "collapsed": true
   },
   "outputs": [],
   "source": [
    "number_episodes = 22\n",
    "number_penalty_episodes = 30\n",
    "use_process_ENVS = False\n",
    "RESIZE_DIM = (42,42)\n",
    "\n",
    "TEST_SET_SPLIT = 0.5\n",
    "\n",
    "RESIZE_ON = True\n",
    "IMAGE_LENGTH = RESIZE_DIM[0] * RESIZE_DIM[1]"
   ]
  },
  {
   "cell_type": "code",
   "execution_count": 10,
   "metadata": {
    "collapsed": false,
    "scrolled": true
   },
   "outputs": [
    {
     "name": "stdout",
     "output_type": "stream",
     "text": [
      "n =  16558 load time= 94.27815699577332\n"
     ]
    }
   ],
   "source": [
    "def gather_frames(all_episodes):\n",
    "    all_frames = []\n",
    "    for episode in all_episodes:\n",
    "        for frame in episode.frames:\n",
    "            all_frames.append(frame)\n",
    "    return all_frames\n",
    "\n",
    "def gather_labels(episodes):    \n",
    "    labeller = pong_catastrophe.PongClassifierLabeller()\n",
    "    all_labels = []\n",
    "    for episode in episodes:\n",
    "        _, labels = labeller.label([], episode)\n",
    "        all_labels += list(labels)\n",
    "    return all_labels\n",
    "\n",
    "def bool_to_one_hot(bool):\n",
    "    return np.array([1., 0.]) if bool else np.array([0., 1.])\n",
    "\n",
    "def from_one_hot(Y):\n",
    "    new_Y = []\n",
    "    for row in Y:\n",
    "        new_row = 1. if row[0]==1. else 0.\n",
    "        new_Y.append(new_row)\n",
    "    return np.array(new_Y)\n",
    "\n",
    "def show_random_labeled_examples(ims, k=4):\n",
    "    xs = ims\n",
    "    for _ in range(k):\n",
    "        j = np.random.randint(len(xs))\n",
    "        im = xs[j]\n",
    "        if len(im.shape) < 2:\n",
    "            plt.imshow(np.reshape(im,RESIZE_DIM))\n",
    "            plt.show()\n",
    "        else:\n",
    "            plt.imshow(im)\n",
    "            plt.show()\n",
    "            \n",
    "def show_random_labeled_examples_GYM(ims, k=4):\n",
    "    xs = ims\n",
    "    for _ in range(k):\n",
    "        j = np.random.randint(len(xs))\n",
    "        im = xs[j]\n",
    "        if len(im.shape) < 2:\n",
    "            plt.imshow(np.reshape(im,(42,42)))\n",
    "            plt.show()\n",
    "        else:\n",
    "            plt.imshow(im)\n",
    "            plt.show()\n",
    "        #print( ys[j])    \n",
    "\n",
    "def show_im(im):\n",
    "    plt.imshow(im, cmap='gray')\n",
    "    plt.show()\n",
    "       \n",
    "def preprocess(im):  \n",
    "    im2 = cv2.cvtColor(im, cv2.COLOR_BGR2GRAY)    \n",
    "    im3 = im2[31:195,:]\n",
    "    resize = cv2.resize(im3, RESIZE_DIM, interpolation = cv2.INTER_AREA) \n",
    "    return resize if RESIZE_ON else im3\n",
    "\n",
    "def preprocess_from_ENVS(frame):\n",
    "    frame = cv2.cvtColor(frame, cv2.COLOR_BGR2GRAY)    \n",
    "    frame = frame[34:194,:160]\n",
    "    frame = cv2.resize(frame, (80, 80))\n",
    "    frame = cv2.resize(frame, RESIZE_DIM)\n",
    "    #frame = frame.mean(2)\n",
    "    frame = frame.astype(np.float32)\n",
    "    frame *= (1.0 / 255.0)\n",
    "    return frame\n",
    "\n",
    "def subtract_mean(image_label):\n",
    "    d = 1600  #CHANGE\n",
    "    means = np.mean(image_label, axis=0)\n",
    "    means[d:] = 0.\n",
    "    minus_mean = image_label - means\n",
    "    return minus_mean \n",
    "    \n",
    "def frames_to_processed_images(frames):\n",
    "    image_list = []\n",
    "    for f in frames:\n",
    "        im = preprocess_from_ENVS(f.image) if use_process_ENVS else preprocess(f.image)\n",
    "        im_flat = np.array(im, dtype='float32').reshape(-1)\n",
    "        #im_norm = im_flat / im_flat.sum()   # normalize\n",
    "        image_list.append(im_flat)\n",
    "    \n",
    "    return image_list #image_ar = subtract_mean(image_ar)  \n",
    "  \n",
    "def split_image_label(image_label_matrix, IMAGE_LENGTH):\n",
    "    return [ image_label_matrix[:,:IMAGE_LENGTH], image_label_matrix[:,IMAGE_LENGTH:] ]\n",
    "\n",
    "def get_batches(data_image_label, batch_size):\n",
    "    rows = data_image_label.shape[0]\n",
    "    num_batches = np.floor(rows / batch_size)\n",
    "    return np.vsplit(data_image_label[:int(num_batches*batch_size),:], num_batches)\n",
    "    \n",
    "\n",
    "def get_shuffled_data_subset(data_image_label, batch_size, subset_size):\n",
    "    n = data_image_label.shape[0]\n",
    "    subset_size = n if subset_size > n else subset_size\n",
    "        \n",
    "    copy_image_label_all = np.copy(data_image_label)\n",
    "    copy_image_label = copy_image_label_all[:subset_size,:]\n",
    "    np.random.shuffle(copy_image_label)\n",
    "    batches =  get_batches(copy_image_label, batch_size)\n",
    "    return [split_image_label(batch,IMAGE_LENGTH) for batch in batches]\n",
    "\n",
    "\n",
    "def episodes_to_data(episodes, test_training_split=True):\n",
    "    frames = gather_frames(episodes)\n",
    "    labels = gather_labels(episodes)\n",
    "    labels = [bool_to_one_hot(label) for label in labels]\n",
    "    \n",
    "    processed_images = np.array(frames_to_processed_images(frames))\n",
    "    labels_ar = np.array(labels, ndmin=2)\n",
    "    data_image_label = np.concatenate((processed_images,labels_ar),axis=1)\n",
    "\n",
    "    if not(test_training_split):\n",
    "        return split_image_label(data_image_label,IMAGE_LENGTH)\n",
    "    else:\n",
    "        n = np.int(len(frames)*TEST_SET_SPLIT)\n",
    "        training_data_image_label = data_image_label[:n,:]\n",
    "        training_data = split_image_label(training_data_image_label,IMAGE_LENGTH)\n",
    "        \n",
    "        test_data_image_label = data_image_label[n:,:]\n",
    "        test_data = split_image_label(test_data_image_label,IMAGE_LENGTH)\n",
    "    \n",
    "        BATCH_SIZE = 50\n",
    "        get_next_pass_subset = lambda n:get_shuffled_data_subset(training_data_image_label, BATCH_SIZE, n)\n",
    "   \n",
    "        return dict(data_image_label=data_image_label,\n",
    "                    training_data=training_data,\n",
    "                    test_data=test_data,\n",
    "                    get_next_pass_subset=get_next_pass_subset)\n",
    "\n",
    "import time\n",
    "start_time = time.time()\n",
    "episodes = get_episodes(episode_paths[:number_episodes])\n",
    "out = episodes_to_data(episodes)\n",
    "training_data = out['training_data']\n",
    "training_data_image_label = out['data_image_label']\n",
    "test_data = out['test_data']\n",
    "get_next_pass_subset = out['get_next_pass_subset']    \n",
    "\n",
    "penalty_episodes = get_episodes(episode_paths[:number_penalty_episodes])\n",
    "penalty_test_data = episodes_to_data(penalty_episodes,test_training_split=False)\n",
    "X_penalty, Y_penalty = penalty_test_data\n",
    "print('n = ', training_data[0].shape[0], 'load time=', time.time() - start_time)"
   ]
  },
  {
   "cell_type": "code",
   "execution_count": 11,
   "metadata": {
    "collapsed": false
   },
   "outputs": [
    {
     "name": "stdout",
     "output_type": "stream",
     "text": [
      "Logistic 0-1 error. \n",
      " Training:  0.0 \n",
      " Test: 0.0\n",
      "\n",
      " Random forest 0-1 error.  \n",
      " Train:  0.00658292064259 \n",
      " Test:  0.00603901201763\n",
      "Metrics: {'fpr': 0.00017051752067524938, 'np.std(y_pred)': 0.2565684008061781, 'recall': 1.0, 'threshold': 0.41599134527019394, 'precision': 0.9995860927152318, 'loss': 0.22554831996265187, 'auc': 0.99999989408849654}\n",
      "\n",
      "\n",
      " RF generalize:\n",
      "\n",
      " Random forest 0-1 error.  \n",
      " Train:  0.00018118130209 \n",
      " Test:  0.000276196141752\n",
      "Metrics: {'fpr': 0.0, 'np.std(y_pred)': 0.31981753279940145, 'recall': 1.0, 'threshold': 0.43739310850415525, 'precision': 1.0, 'loss': 0.15215955603367029, 'auc': 1.0}\n"
     ]
    },
    {
     "data": {
      "text/plain": [
       "<classifier_utils.SKClassifier at 0x31baf7978>"
      ]
     },
     "execution_count": 11,
     "metadata": {},
     "output_type": "execute_result"
    }
   ],
   "source": [
    "import classifier_utils\n",
    "\n",
    "X_train, Y_train = training_data\n",
    "Y_train = from_one_hot(Y_train)\n",
    "X_test, Y_test = test_data\n",
    "Y_test = from_one_hot(Y_test)\n",
    "Y_penalty_RF = from_one_hot(Y_penalty)\n",
    "\n",
    "classifier_utils.run_predict_logistic_regression(X_train,Y_train,X_test,Y_test)\n",
    "classifier_utils.run_predict_random_forest(X_train,Y_train,X_test,Y_test, \n",
    "                                           n_estimators=20, max_features=600, show_mistakes=False)\n",
    "print('\\n\\n RF generalize:')\n",
    "classifier_utils.run_predict_random_forest(X_train,Y_train,X_penalty,Y_penalty_RF, \n",
    "                                           n_estimators=20, max_features=600, show_mistakes=False)"
   ]
  },
  {
   "cell_type": "code",
   "execution_count": 12,
   "metadata": {
    "collapsed": false
   },
   "outputs": [],
   "source": [
    "from sklearn.metrics import log_loss\n",
    "from sklearn.metrics import precision_score, recall_score, roc_auc_score\n",
    "\n",
    "class ScoreNN(object):\n",
    "    \n",
    "    def __init__(self):\n",
    "        pass\n",
    "\n",
    "    def threshold_from_data(self, X, y, y_pred):\n",
    "        y_bool = y.reshape(-1) == 1.   ## true if x is a catast\n",
    "        if np.count_nonzero(y) == 0:\n",
    "            return np.max(y_pred)\n",
    "        probs_of_catastrophe = y_pred[y_bool][:,0]\n",
    "        return np.min(probs_of_catastrophe) # TODO CHANGED FROM WILL CODE\n",
    "\n",
    "    def metrics(self, X, y, y_pred_pair):\n",
    "        metrics = {}\n",
    "        y_pred = y_pred_pair[:,0]  ## From softmax pair to prob of catastrophe\n",
    "        \n",
    "        #metrics['loss'] = loss\n",
    "        threshold = self.threshold_from_data(X, y, y_pred_pair)\n",
    "        metrics['threshold'] = threshold\n",
    "        metrics['np.std(y_pred)'] = np.std(y_pred)\n",
    "        denom = np.count_nonzero(y == False)\n",
    "        num = np.count_nonzero(np.logical_and(y.reshape(-1) == False, y_pred >= threshold))\n",
    "        \n",
    "        metrics['fpr'] = float(num) / float(denom)\n",
    "        if any(y) and not all(y):\n",
    "            metrics['auc'] = roc_auc_score(y, y_pred)\n",
    "            y_pred_bool = y_pred >= threshold\n",
    "            if (any(y_pred_bool) and not all(y_pred_bool)):\n",
    "                metrics['precision'] = precision_score(np.array(y, dtype=np.float32), y_pred_bool)\n",
    "                metrics['recall'] = recall_score(y, y_pred_bool)\n",
    "\n",
    "        return metrics\n",
    "    \n",
    "    def metrics_generalize(self, X, y, y_pred_pair, test_threshold):\n",
    "        metrics = {}\n",
    "        y_pred = y_pred_pair[:,0]  ## From softmax pair to prob of catastrophe\n",
    "        threshold = test_threshold\n",
    "        metrics['threshold'] = threshold\n",
    "        metrics['np.std(y_pred)'] = np.std(y_pred)\n",
    "        denom = np.count_nonzero(y == False)\n",
    "        num = np.count_nonzero(np.logical_and(y.reshape(-1) == False, y_pred >= threshold))\n",
    "        \n",
    "        metrics['fpr'] = float(num) / float(denom)\n",
    "        if any(y) and not all(y):\n",
    "            metrics['auc'] = roc_auc_score(y, y_pred)\n",
    "            y_pred_bool = y_pred >= threshold\n",
    "            if (any(y_pred_bool) and not all(y_pred_bool)):\n",
    "                metrics['precision'] = precision_score(np.array(y, dtype=np.float32), y_pred_bool)\n",
    "                metrics['recall'] = recall_score(y, y_pred_bool)\n",
    "\n",
    "        return metrics\n",
    "\n",
    "    def softmax_y(self, y_score):\n",
    "        return np.exp(y_score) / np.sum(np.exp(y_score), axis=1).reshape(-1,1)\n",
    "\n",
    "    def get_gaps(self, y, y_pred):  ## y pred is nx2 softmax predictions\n",
    "        return np.abs(y[:,0] - y_pred[:,0])\n",
    "\n",
    "    def show_mistakes(self, X, y, y_pred,k):\n",
    "        gaps = self.get_gaps(y,y_pred)\n",
    "        index_gap = np.array([[i,gap] for i,gap in enumerate(gaps)])\n",
    "        sorted_index_gap = index_gap[index_gap[:,1].argsort()]\n",
    "        tail_index_gap = sorted_index_gap[-k:,:]\n",
    "\n",
    "        xs = []\n",
    "        probs = []\n",
    "        for row in range(k):\n",
    "            index,gap = tail_index_gap[row,:]\n",
    "            x = X[int(index),:]\n",
    "            xs.append(x)\n",
    "            show_im(x.reshape(RESIZE_DIM[0],RESIZE_DIM[1]))\n",
    "            print('Is catastr:', y[int(index)] == 1., '. Prob gap: ', gap, ' \\n ')    \n",
    "        return xs\n",
    "    \n",
    "scoreNN = ScoreNN()   \n",
    "    \n",
    "import tensorflow as tf\n",
    "\n",
    "def variable_summaries(var, name):\n",
    "    \"\"\"Attach a lot of summaries to a Tensor (for TensorBoard visualization).\"\"\"\n",
    "    with tf.name_scope('summary'+name):\n",
    "        mean = tf.reduce_mean(var)\n",
    "        tf.summary.scalar('mean', mean)\n",
    "        with tf.name_scope('stddev'):\n",
    "            stddev = tf.sqrt(tf.reduce_mean(tf.square(var - mean)))\n",
    "        tf.summary.scalar('stddev', stddev)\n",
    "        tf.summary.scalar('max', tf.reduce_max(var))\n",
    "        tf.summary.scalar('min', tf.reduce_min(var))\n",
    "        tf.summary.histogram('histogram', var)\n",
    "\n",
    "def weight_variable(shape):\n",
    "  initial = tf.truncated_normal(shape, stddev=0.1)\n",
    "  return tf.Variable(initial)\n",
    "\n",
    "def bias_variable(shape):\n",
    "  initial = tf.constant(0.1, shape=shape)\n",
    "  return tf.Variable(initial)\n",
    "\n",
    "def conv2d(x, W):\n",
    "  return tf.nn.conv2d(x, W, strides=[1, 1, 1, 1], padding='SAME')\n",
    "\n",
    "def max_pool_2x2(x):\n",
    "  return tf.nn.max_pool(x, ksize=[1, 2, 2, 1], strides=[1, 2, 2, 1], padding='SAME')\n",
    "\n",
    "\n",
    "def add_noise_to_training(training_data_matrix, false_positive_rate, false_negative_rate):\n",
    "    \"\"\"Labels are bools\"\"\"\n",
    "    images, labels1 = split_image_label(training_data_matrix, IMAGE_LENGTH)\n",
    "    labels2 = from_one_hot(labels1)\n",
    "    labels = labels2 == 1.\n",
    "    if false_positive_rate > 0 or false_negative_rate > 0:\n",
    "        r = np.random.RandomState()\n",
    "        p = r.rand(len(labels))\n",
    "        original_labels = np.copy(labels)\n",
    "        labels[(~original_labels) & (p < false_positive_rate)] = True\n",
    "        labels[(original_labels) & (p < false_negative_rate)] = False\n",
    "        \n",
    "    \n",
    "    labels_ar = np.array([bool_to_one_hot(label) for label in labels], ndmin=2)\n",
    "    training_data_matrix_noisified = np.concatenate((images,labels_ar),axis=1)\n",
    "    return training_data_matrix_noisified"
   ]
  },
  {
   "cell_type": "code",
   "execution_count": 14,
   "metadata": {
    "collapsed": false
   },
   "outputs": [
    {
     "name": "stdout",
     "output_type": "stream",
     "text": [
      "\n",
      "--------------\n",
      "Training set n= 10000 . Frames*passes =  40000\n",
      "Test set n= 16559 . Generalize n= 47068\n",
      "Base rate for positive instance in test set: 0.291684280452\n",
      "step (num batches) 0, accuracy on minibatch 0.48\n",
      "step (num batches) 300, accuracy on minibatch 0.9\n",
      "step (num batches) 600, accuracy on minibatch 0.96\n"
     ]
    },
    {
     "data": {
      "image/png": "[encoded data removed]",
      "text/plain": [
       "<matplotlib.figure.Figure at 0x2e923f550>"
      ]
     },
     "metadata": {},
     "output_type": "display_data"
    },
    {
     "name": "stdout",
     "output_type": "stream",
     "text": [
      "\n",
      " Test accuracy:  0.998369\n",
      "\n",
      " METRICS:  {'fpr': 0.006650183306334726, 'np.std(y_pred)': 0.45361656, 'recall': 1.0, 'threshold': 0.0015692106, 'precision': 0.9841075794621027, 'auc': 0.99998534890867907}\n",
      "\n",
      " -------  \n",
      "GENERALIZE ACCURACY\n",
      "\n",
      " Generalize batches:\n",
      "\n",
      " Test accuracy:  0.99847\n",
      "\n",
      " METRICS:  {'fpr': 0.0037652557777200727, 'np.std(y_pred)': 0.47470042, 'recall': 1.0, 'threshold': 0.0015692106, 'precision': 0.99291646311675619, 'auc': 0.99998393414211995}\n",
      "\n",
      " Test accuracy:  0.99847\n",
      "\n",
      " METRICS:  {'fpr': 0.008284432171211598, 'np.std(y_pred)': 0.43865299, 'recall': 1.0, 'threshold': 0.0015692106, 'precision': 0.97712833545108002, 'auc': 0.99998271832257302}\n",
      "\n",
      " Test accuracy:  0.997705\n",
      "\n",
      " METRICS:  {'fpr': 0.005598229397213905, 'np.std(y_pred)': 0.47492921, 'recall': 1.0, 'threshold': 0.0015692106, 'precision': 0.98958585613950112, 'auc': 0.99998212497187311}\n",
      "\n",
      " Test accuracy:  0.997111\n",
      "\n",
      " METRICS:  {'fpr': 0.010647107535786111, 'np.std(y_pred)': 0.44947112, 'recall': 1.0, 'threshold': 0.0015692106, 'precision': 0.97356051703877788, 'auc': 0.99987934277653401}\n",
      "\n",
      "\n",
      " All mistakes: \n"
     ]
    },
    {
     "data": {
      "image/png": "[encoded data removed]",
      "text/plain": [
       "<matplotlib.figure.Figure at 0x31b872cf8>"
      ]
     },
     "metadata": {},
     "output_type": "display_data"
    },
    {
     "name": "stdout",
     "output_type": "stream",
     "text": [
      "Is catastr: [False] . Prob gap:  0.999999880791  \n",
      " \n"
     ]
    },
    {
     "data": {
      "image/png": "[encoded data removed]",
      "text/plain": [
       "<matplotlib.figure.Figure at 0x1b0ade320>"
      ]
     },
     "metadata": {},
     "output_type": "display_data"
    },
    {
     "name": "stdout",
     "output_type": "stream",
     "text": [
      "Is catastr: [False] . Prob gap:  0.999999880791  \n",
      " \n"
     ]
    },
    {
     "data": {
      "image/png": "[encoded data removed]",
      "text/plain": [
       "<matplotlib.figure.Figure at 0x1b0d0f160>"
      ]
     },
     "metadata": {},
     "output_type": "display_data"
    },
    {
     "name": "stdout",
     "output_type": "stream",
     "text": [
      "Is catastr: [False] . Prob gap:  0.999999880791  \n",
      " \n",
      "All Metrics: {'fpr': 0.0071940234266916715, 'np.std(y_pred)': 0.46124575, 'recall': 1.0, 'threshold': 0.0015692106, 'precision': 0.98416243654822333, 'auc': 0.99995679053781583}\n"
     ]
    }
   ],
   "source": [
    "log_dir = \"/tmp/tf\"\n",
    "\n",
    "\n",
    "def run_model(training_data_matrix, number_frames, number_passes = 1):\n",
    "    tf.reset_default_graph()\n",
    "    sess = tf.InteractiveSession()\n",
    "\n",
    "    num_filters1 = 4\n",
    "    num_filters2 = 4\n",
    "    len_fc = 50\n",
    "    \n",
    "    num_filters1 = 10\n",
    "    num_filters2 = 10\n",
    "    len_fc = 100\n",
    "\n",
    "    # inputs\n",
    "    d = RESIZE_DIM[0] * RESIZE_DIM[1]\n",
    "    number_classes = 2\n",
    "    x = tf.placeholder(tf.float32, shape=[None, d])\n",
    "    y_ = tf.placeholder(tf.float32, shape=[None, number_classes])\n",
    "    y_binary = tf.placeholder(tf.float32, shape=[None,1])\n",
    "\n",
    "    x_dim = RESIZE_DIM\n",
    "    with tf.name_scope('input_reshape'):\n",
    "        x_image = tf.reshape(x, [-1, x_dim[0], x_dim[1],1])\n",
    "        tf.summary.image('input',x_image, 15)\n",
    "\n",
    "    #layer 1\n",
    "    W_conv1 = weight_variable([5, 5, 1, num_filters1])\n",
    "    b_conv1 = bias_variable([num_filters1])\n",
    "    variable_summaries(W_conv1, 'W_conv1')\n",
    "    variable_summaries(b_conv1, 'b_conv1')\n",
    "\n",
    "    h_conv1 = tf.nn.relu(conv2d(x_image, W_conv1) + b_conv1) ## output 40x40x3\n",
    "    #h_pool1 = max_pool_2x2(h_conv1)   # output is 20x20x32\n",
    "\n",
    "    W_image = tf.reshape(W_conv1, [num_filters1, 5, 5, 1])\n",
    "    tf.summary.image('W_conv1', W_image, num_filters1)\n",
    "    variable_summaries(h_conv1, 'h_conv1')\n",
    "    x_dim1 = RESIZE_DIM\n",
    "\n",
    "    # layer 2\n",
    "    W_conv2 = weight_variable([5, 5, num_filters1, num_filters2])\n",
    "    b_conv2 = bias_variable([num_filters2])\n",
    "\n",
    "    h_conv2 = tf.nn.relu(conv2d(h_conv1, W_conv2) + b_conv2)\n",
    "    x_dim2 = RESIZE_DIM\n",
    "\n",
    "\n",
    "    # FC layer 1   ## 1600* 4 = 6400\n",
    "    W_fc1 = weight_variable([x_dim2[0] * x_dim2[1] * num_filters2, len_fc])\n",
    "    b_fc1 = bias_variable([len_fc])\n",
    "    variable_summaries(W_fc1, 'W_fc1')\n",
    "\n",
    "    h_conv2_flat = tf.reshape(h_conv2, [-1, x_dim2[0] * x_dim2[1] * num_filters2])\n",
    "    h_fc1 = tf.nn.relu(tf.matmul(h_conv2_flat, W_fc1) + b_fc1)\n",
    "\n",
    "    ## FC layer 2\n",
    "    W_fc2 = weight_variable([len_fc, number_classes])\n",
    "    b_fc2 = bias_variable([number_classes])\n",
    "\n",
    "    y_conv = tf.matmul(h_fc1, W_fc2) + b_fc2\n",
    "\n",
    "    #losses = y_binary - y_conv[:,1]\n",
    "\n",
    "    cross_entropy = tf.reduce_mean(\n",
    "        tf.nn.softmax_cross_entropy_with_logits(labels=y_, logits=y_conv))\n",
    "\n",
    "    train_step = tf.train.AdamOptimizer(1e-4).minimize(cross_entropy)\n",
    "\n",
    "    correct_prediction = tf.equal(tf.argmax(y_conv,1), tf.argmax(y_,1))\n",
    "\n",
    "    accuracy = tf.reduce_mean(tf.cast(correct_prediction, tf.float32))\n",
    "    tf.summary.scalar('accuracy', accuracy)\n",
    "    accuracy_graph = []\n",
    "\n",
    "    merged = tf.summary.merge_all()\n",
    "    train_writer = tf.summary.FileWriter(log_dir, sess.graph)\n",
    "\n",
    "\n",
    "\n",
    "    ## TRAIN\n",
    "    sess.run(tf.global_variables_initializer())\n",
    "    batch_size = 50\n",
    "    X_test,Y_test = test_data\n",
    "\n",
    "    print('\\n--------------\\nTraining set n=', number_frames, '. Frames*passes = ', number_frames*number_passes)\n",
    "    print('Test set n=', X_test.shape[0], '. Generalize n=', X_penalty.shape[0])\n",
    "    print('Base rate for positive instance in test set:', np.mean(Y_test[:,0]))\n",
    "\n",
    "    step = 0\n",
    "    for _ in range(number_passes):\n",
    "        single_pass = get_shuffled_data_subset(training_data_matrix, batch_size, number_frames)\n",
    "        \n",
    "        for batch in single_pass:\n",
    "            xs, ys = batch\n",
    "            train_accuracy = accuracy.eval(feed_dict={x: xs, y_: ys})    \n",
    "            accuracy_graph.append(1.-train_accuracy)\n",
    "\n",
    "            if step % 300 == 0:\n",
    "                print(\"step (num batches) %d, accuracy on minibatch %g\"%(step, train_accuracy))\n",
    "\n",
    "            summary, _ = sess.run([merged, train_step], feed_dict= {x:xs, y_:ys})\n",
    "\n",
    "            train_writer.add_summary(summary, step)\n",
    "\n",
    "            train_step.run(feed_dict={x: xs, y_: ys})\n",
    "            step += 1\n",
    "\n",
    "    train_writer.close()\n",
    "    saver = tf.train.Saver()\n",
    "    save_path = saver.save(sess, \"/tmp/tf/model.ckpt\") #saver.restore(sess, \"/tmp/tf/model.ckpt\")\n",
    "    #print(\"Model saved in file: %s\" % save_path)\n",
    "    \n",
    "    plt.plot(accuracy_graph)\n",
    "    plt.title('Accuracy per training batch')\n",
    "    plt.show()\n",
    "    \n",
    "    def test_performance(X_test,Y_test,mistakes=False, generalize=False, test_threshold=None):\n",
    "        accuracy_test, y_conv_test = sess.run([accuracy, y_conv], feed_dict={x: X_test, y_: Y_test})\n",
    "        print(\"\\n Test accuracy: \", accuracy_test)\n",
    "    \n",
    "        y_pred = scoreNN.softmax_y(y_conv_test)\n",
    "        Y_convert = from_one_hot(Y_test)\n",
    "        Y_binary = Y_convert.reshape(len(Y_convert),1)\n",
    "        \n",
    "        if mistakes:\n",
    "            scoreNN.show_mistakes(X_test,Y_binary,y_pred,3)\n",
    "        if generalize:\n",
    "            metrics = scoreNN.metrics_generalize(X_test,Y_binary,y_pred, test_threshold)\n",
    "        else:\n",
    "            metrics = scoreNN.metrics(X_test,Y_binary,y_pred)\n",
    "        print('\\n METRICS: ',metrics)\n",
    "        return y_pred, metrics['threshold']\n",
    "    \n",
    "    \n",
    "    _, test_threshold = test_performance(X_test,Y_test, False)\n",
    "    \n",
    "    \n",
    "\n",
    "    \n",
    "    print('\\n -------  \\nGENERALIZE ACCURACY')\n",
    "    def run_generalize():\n",
    "        batch_size = 10000\n",
    "        num_batches = max(1,np.floor(X_penalty.shape[0] / batch_size))\n",
    "        batches_X = np.array_split(X_penalty, num_batches, axis=0)\n",
    "        batches_Y = np.array_split(Y_penalty, num_batches, axis=0)\n",
    "\n",
    "        generalize_y_pred_list = []\n",
    "        print('\\n Generalize batches:')\n",
    "        for xs,ys in zip(batches_X, batches_Y):\n",
    "            generalize_y_pred, _ = test_performance(xs,ys, generalize=True, test_threshold=test_threshold)\n",
    "            generalize_y_pred_list.append(generalize_y_pred)\n",
    "        \n",
    "        all_y_pred = np.concatenate(generalize_y_pred_list,axis=0)\n",
    "        Y_convert = from_one_hot(Y_penalty)\n",
    "        Y_binary = Y_convert.reshape(len(Y_convert),1)\n",
    "        print('\\n\\n All mistakes: ')\n",
    "        scoreNN.show_mistakes(X_penalty,Y_binary,all_y_pred,3)\n",
    "        print('All Metrics:', scoreNN.metrics_generalize(X_penalty, Y_binary, all_y_pred, test_threshold))\n",
    "        return all_y_pred\n",
    "    \n",
    "    all_y_pred = run_generalize()\n",
    "    sess.close()\n",
    "    return all_y_pred\n",
    "    \n",
    "    \n",
    "false_positive_rate = .0001\n",
    "false_negative_rate = .0001\n",
    "training_data_matrix = add_noise_to_training(training_data_image_label, false_positive_rate, false_negative_rate)\n",
    "number_frames = 10000\n",
    "\n",
    "\n",
    "number_passes = 4\n",
    "ensemble_size = 1\n",
    "run_model_thunk = lambda: run_model(training_data_matrix, number_frames, number_passes)\n",
    "y_pred_list = [run_model_thunk() for _ in range(ensemble_size)]"
   ]
  },
  {
   "cell_type": "code",
   "execution_count": null,
   "metadata": {
    "collapsed": true
   },
   "outputs": [],
   "source": []
  },
  {
   "cell_type": "code",
   "execution_count": 34,
   "metadata": {
    "collapsed": false
   },
   "outputs": [
    {
     "name": "stdout",
     "output_type": "stream",
     "text": [
      "\n",
      "Next y_pred: {'fpr': 0.5513432835820895, 'threshold': 0.0098929405, 'np.std(y_pred)': 0.40068018, 'recall': 1.0, 'auc': 0.99366707418538702, 'precision': 0.45830481963046243}\n",
      "\n",
      "Next y_pred: {'fpr': 0.1389054726368159, 'threshold': 0.13321622, 'np.std(y_pred)': 0.41127157, 'recall': 1.0, 'auc': 0.99687645390793478, 'precision': 0.77054569362261671}\n",
      "\n",
      "\n",
      " y_pred_mean: {'fpr': 0.10288557213930348, 'threshold': 0.20652598, 'np.std(y_pred)': 0.3979249, 'recall': 1.0, 'auc': 0.99879266211604101, 'precision': 0.81929395316322962}\n"
     ]
    },
    {
     "data": {
      "image/png": "[encoded data removed]",
      "text/plain": [
       "<matplotlib.figure.Figure at 0x16c6d0ac8>"
      ]
     },
     "metadata": {},
     "output_type": "display_data"
    },
    {
     "name": "stdout",
     "output_type": "stream",
     "text": [
      "Is catastr: [ True] . Prob gap:  0.793474018574  \n",
      " \n"
     ]
    },
    {
     "data": {
      "image/png": "[encoded data removed]",
      "text/plain": [
       "<matplotlib.figure.Figure at 0x1fb988940>"
      ]
     },
     "metadata": {},
     "output_type": "display_data"
    },
    {
     "name": "stdout",
     "output_type": "stream",
     "text": [
      "Is catastr: [False] . Prob gap:  0.838322639465  \n",
      " \n"
     ]
    },
    {
     "data": {
      "image/png": "[encoded data removed]",
      "text/plain": [
       "<matplotlib.figure.Figure at 0x16a8fce80>"
      ]
     },
     "metadata": {},
     "output_type": "display_data"
    },
    {
     "name": "stdout",
     "output_type": "stream",
     "text": [
      "Is catastr: [False] . Prob gap:  0.917683005333  \n",
      " \n"
     ]
    }
   ],
   "source": [
    "### need to rewrite. \n",
    "def run_ensemble(y_pred_list):\n",
    "    y_pred_mean = sum(y_pred_list) / len(y_pred_list)\n",
    "    scoreNN = ScoreNN()\n",
    "    Y_convert = from_one_hot(Y_penalty)\n",
    "    Y_binary = Y_convert.reshape(len(Y_convert),1)\n",
    "\n",
    "    for y_pred in y_pred_list:\n",
    "        metrics = scoreNN.metrics(X_penalty,Y_binary,y_pred)\n",
    "        print('\\nNext y_pred:',metrics)\n",
    "\n",
    "    metrics = scoreNN.metrics(X_test,Y_binary,y_pred_mean)\n",
    "    print('\\n\\n y_pred_mean:',metrics)\n",
    "    scoreNN.show_mistakes(X_penalty,Y_binary,y_pred_mean,3)\n",
    "\n",
    "run_ensemble(y_pred_list)"
   ]
  },
  {
   "cell_type": "code",
   "execution_count": null,
   "metadata": {
    "collapsed": true
   },
   "outputs": [],
   "source": []
  },
  {
   "cell_type": "code",
   "execution_count": 5,
   "metadata": {
    "collapsed": false
   },
   "outputs": [
    {
     "name": "stdout",
     "output_type": "stream",
     "text": [
      "step (num batches) 0, training accuracy 0.7\n",
      "step (num batches) 1000, training accuracy 0.94\n",
      "Base rate for positive instance: 0.500248138958\n",
      "test accuracy 0.972953\n"
     ]
    },
    {
     "data": {
      "text/plain": [
       "[<matplotlib.lines.Line2D at 0x11b329ac8>]"
      ]
     },
     "execution_count": 5,
     "metadata": {},
     "output_type": "execute_result"
    },
    {
     "data": {
      "image/png": "[encoded data removed]",
      "text/plain": [
       "<matplotlib.figure.Figure at 0x13d92b5f8>"
      ]
     },
     "metadata": {},
     "output_type": "display_data"
    }
   ],
   "source": [
    "## MLP VERSION\n",
    "d = 1600\n",
    "number_classes = 2\n",
    "x = tf.placeholder(tf.float32, shape=[None, d])\n",
    "y_ = tf.placeholder(tf.float32, shape=[None, number_classes])\n",
    "x_dim = [40,40]\n",
    "\n",
    "with tf.name_scope('input_reshape'):\n",
    "    x_image = tf.reshape(x, [-1, x_dim[0], x_dim[1],1])\n",
    "    tf.summary.image('input',x_image,15)\n",
    "    \n",
    "\n",
    "# FC layer 1\n",
    "len_fc1 = 200\n",
    "W_fc1 = weight_variable([d, len_fc1])\n",
    "b_fc1 = bias_variable([len_fc1])\n",
    "tf.summary.scalar('W1_mean', tf.reduce_mean(W_fc1))\n",
    "tf.summary.scalar('W1_max', tf.reduce_max(W_fc1))\n",
    "#tf.summary.image('W_fc1', tf.reshape(W_fc1, [1,d,len_fc1,1]) )\n",
    "\n",
    "h_fc1 = tf.nn.relu(tf.matmul(x, W_fc1) + b_fc1)\n",
    "tf.summary.scalar('activation_1_mean', tf.reduce_mean(h_fc1))\n",
    "\n",
    "# FC layer 2\n",
    "len_fc2 = 50\n",
    "W_fc2 = weight_variable([len_fc1, len_fc2])\n",
    "b_fc2 = bias_variable([len_fc2])\n",
    "\n",
    "h_fc2 = tf.nn.relu(tf.matmul(h_fc1, W_fc2) + b_fc2)\n",
    "\n",
    "## FC layer 3\n",
    "W_fc3 = weight_variable([len_fc2, number_classes])\n",
    "b_fc3 = bias_variable([number_classes])\n",
    "\n",
    "y_conv = tf.matmul(h_fc2, W_fc3) + b_fc3\n",
    "\n",
    "cross_entropy = tf.reduce_mean(\n",
    "    tf.nn.softmax_cross_entropy_with_logits(labels=y_, logits=y_conv))\n",
    "\n",
    "lambda_constant = .00001\n",
    "\n",
    "loss = cross_entropy + lambda_constant * (tf.nn.l2_loss(W_fc1) +\n",
    "                                          tf.nn.l2_loss(b_fc1) +\n",
    "                                          tf.nn.l2_loss(W_fc2) +\n",
    "                                          tf.nn.l2_loss(b_fc2) +\n",
    "                                          tf.nn.l2_loss(W_fc3))\n",
    "\n",
    "train_step = tf.train.AdamOptimizer(1e-4).minimize(loss)\n",
    "\n",
    "\n",
    "correct_prediction = tf.equal(tf.argmax(y_conv,1), tf.argmax(y_,1))\n",
    "\n",
    "\n",
    "accuracy = tf.reduce_mean(tf.cast(correct_prediction, tf.float32))\n",
    "tf.summary.scalar('accuracy', accuracy)\n",
    "\n",
    "correct_prediction = tf.equal(tf.argmax(y_conv,1), tf.argmax(y_,1))\n",
    "\n",
    "\n",
    "accuracy_graph = []\n",
    "\n",
    "merged = tf.summary.merge_all()\n",
    "train_writer = tf.summary.FileWriter(log_dir, sess.graph)\n",
    "\n",
    "\n",
    "sess.run(tf.global_variables_initializer())\n",
    "\n",
    "number_passes = 20\n",
    "step = 0\n",
    "\n",
    "for _ in range(number_passes):\n",
    "    single_pass = get_next_pass()\n",
    "    for batch in single_pass:\n",
    "        xs, ys = batch\n",
    "        train_accuracy = accuracy.eval(feed_dict={x: xs, y_: ys})    \n",
    "        accuracy_graph.append(1.-train_accuracy)\n",
    "\n",
    "        if step % 1000 == 0:\n",
    "            print(\"step (num batches) %d, training accuracy %g\"%(step, train_accuracy))\n",
    "        \n",
    "        summary, _ = sess.run([merged, train_step], feed_dict= {x:xs, y_:ys})\n",
    "        train_writer.add_summary(summary, step)\n",
    "        step += 1\n",
    "\n",
    "train_writer.close()\n",
    "        \n",
    "\n",
    "X_test,Y_test = test_data\n",
    "print('Base rate for positive instance:', np.mean(Y_test[:,0]))\n",
    "print(\"test accuracy %g\"%accuracy.eval(feed_dict={x: X_test, y_: Y_test}))\n",
    "plt.plot(accuracy_graph)"
   ]
  },
  {
   "cell_type": "code",
   "execution_count": 9,
   "metadata": {
    "collapsed": false
   },
   "outputs": [],
   "source": [
    "import os\n",
    "import numpy as np\n",
    "#mnist = input_data.read_data_sets('MNIST_data', one_hot=True)\n",
    "import matplotlib.pyplot as plt\n",
    "%matplotlib inline\n",
    "import tensorflow as tf\n",
    "\n",
    "# Data sets\n",
    "IRIS_TRAINING = \"iris_training.csv\"\n",
    "IRIS_TRAINING_URL = \"http://download.tensorflow.org/data/iris_training.csv\"\n",
    "\n",
    "IRIS_TEST = \"iris_test.csv\"\n",
    "IRIS_TEST_URL = \"http://download.tensorflow.org/data/iris_test.csv\"\n",
    "\n",
    "\n",
    "training_set = tf.contrib.learn.datasets.base.load_csv_with_header(\n",
    "  filename=IRIS_TRAINING,\n",
    "  target_dtype=np.int,\n",
    "  features_dtype=np.float32)\n",
    "test_set = tf.contrib.learn.datasets.base.load_csv_with_header(\n",
    "  filename=IRIS_TEST,\n",
    "  target_dtype=np.int,\n",
    "  features_dtype=np.float32)\n"
   ]
  },
  {
   "cell_type": "code",
   "execution_count": 10,
   "metadata": {
    "collapsed": false
   },
   "outputs": [],
   "source": [
    "from collections import namedtuple\n",
    "\n",
    "Dataset = namedtuple(\"Dataset\", [\"data\", \"target\"])\n",
    "training_set_copy = Dataset(data=training_set.data, target=training_set.target)"
   ]
  },
  {
   "cell_type": "code",
   "execution_count": 8,
   "metadata": {
    "collapsed": true
   },
   "outputs": [
    {
     "name": "stdout",
     "output_type": "stream",
     "text": [
      "INFO:tensorflow:Using default config.\n",
      "INFO:tensorflow:Using config: {'_task_type': None, '_evaluation_master': '', '_cluster_spec': <tensorflow.python.training.server_lib.ClusterSpec object at 0x114e5bb00>, '_master': '', 'keep_checkpoint_max': 5, '_num_ps_replicas': 0, '_task_id': 0, 'tf_config': gpu_options {\n",
      "  per_process_gpu_memory_fraction: 1\n",
      "}\n",
      ", 'save_checkpoints_steps': None, '_environment': 'local', 'tf_random_seed': None, 'keep_checkpoint_every_n_hours': 10000, 'save_checkpoints_secs': 600, '_is_chief': True, 'save_summary_steps': 100}\n",
      "WARNING:tensorflow:From /Users/owainevans/anaconda2/envs/uni_start/lib/python3.5/site-packages/tensorflow/contrib/learn/python/learn/estimators/dnn.py:315 in fit.: calling BaseEstimator.fit (from tensorflow.contrib.learn.python.learn.estimators.estimator) with x is deprecated and will be removed after 2016-12-01.\n",
      "Instructions for updating:\n",
      "Estimator is decoupled from Scikit Learn interface by moving into\n",
      "separate class SKCompat. Arguments x, y and batch_size are only\n",
      "available in the SKCompat class, Estimator will only accept input_fn.\n",
      "Example conversion:\n",
      "  est = Estimator(...) -> est = SKCompat(Estimator(...))\n",
      "WARNING:tensorflow:From /Users/owainevans/anaconda2/envs/uni_start/lib/python3.5/site-packages/tensorflow/contrib/learn/python/learn/estimators/dnn.py:315 in fit.: calling BaseEstimator.fit (from tensorflow.contrib.learn.python.learn.estimators.estimator) with y is deprecated and will be removed after 2016-12-01.\n",
      "Instructions for updating:\n",
      "Estimator is decoupled from Scikit Learn interface by moving into\n",
      "separate class SKCompat. Arguments x, y and batch_size are only\n",
      "available in the SKCompat class, Estimator will only accept input_fn.\n",
      "Example conversion:\n",
      "  est = Estimator(...) -> est = SKCompat(Estimator(...))\n",
      "WARNING:tensorflow:From /Users/owainevans/anaconda2/envs/uni_start/lib/python3.5/site-packages/tensorflow/contrib/learn/python/learn/estimators/dnn.py:315 in fit.: calling BaseEstimator.fit (from tensorflow.contrib.learn.python.learn.estimators.estimator) with batch_size is deprecated and will be removed after 2016-12-01.\n",
      "Instructions for updating:\n",
      "Estimator is decoupled from Scikit Learn interface by moving into\n",
      "separate class SKCompat. Arguments x, y and batch_size are only\n",
      "available in the SKCompat class, Estimator will only accept input_fn.\n",
      "Example conversion:\n",
      "  est = Estimator(...) -> est = SKCompat(Estimator(...))\n",
      "INFO:tensorflow:Summary name dnn/hiddenlayer_0:fraction_of_zero_values is illegal; using dnn/hiddenlayer_0_fraction_of_zero_values instead.\n",
      "INFO:tensorflow:Summary name dnn/hiddenlayer_0:activation is illegal; using dnn/hiddenlayer_0_activation instead.\n",
      "INFO:tensorflow:Summary name dnn/hiddenlayer_1:fraction_of_zero_values is illegal; using dnn/hiddenlayer_1_fraction_of_zero_values instead.\n",
      "INFO:tensorflow:Summary name dnn/hiddenlayer_1:activation is illegal; using dnn/hiddenlayer_1_activation instead.\n",
      "INFO:tensorflow:Summary name dnn/hiddenlayer_2:fraction_of_zero_values is illegal; using dnn/hiddenlayer_2_fraction_of_zero_values instead.\n",
      "INFO:tensorflow:Summary name dnn/hiddenlayer_2:activation is illegal; using dnn/hiddenlayer_2_activation instead.\n",
      "INFO:tensorflow:Summary name dnn/logits:fraction_of_zero_values is illegal; using dnn/logits_fraction_of_zero_values instead.\n",
      "INFO:tensorflow:Summary name dnn/logits:activation is illegal; using dnn/logits_activation instead.\n",
      "INFO:tensorflow:Create CheckpointSaverHook.\n"
     ]
    },
    {
     "ename": "InvalidArgumentError",
     "evalue": "Shape in shape_and_slice spec does not match the shape in the save file: [10,3], save file shape: [10,1]\n\t [[Node: save/RestoreV2_16 = RestoreV2[dtypes=[DT_FLOAT], _device=\"/job:localhost/replica:0/task:0/cpu:0\"](_recv_save/Const_0, save/RestoreV2_16/tensor_names, save/RestoreV2_16/shape_and_slices)]]\n\nCaused by op 'save/RestoreV2_16', defined at:\n  File \"/Users/owainevans/anaconda2/envs/uni_start/lib/python3.5/runpy.py\", line 184, in _run_module_as_main\n    \"__main__\", mod_spec)\n  File \"/Users/owainevans/anaconda2/envs/uni_start/lib/python3.5/runpy.py\", line 85, in _run_code\n    exec(code, run_globals)\n  File \"/Users/owainevans/anaconda2/envs/uni_start/lib/python3.5/site-packages/ipykernel/__main__.py\", line 3, in <module>\n    app.launch_new_instance()\n  File \"/Users/owainevans/anaconda2/envs/uni_start/lib/python3.5/site-packages/traitlets/config/application.py\", line 658, in launch_instance\n    app.start()\n  File \"/Users/owainevans/anaconda2/envs/uni_start/lib/python3.5/site-packages/ipykernel/kernelapp.py\", line 474, in start\n    ioloop.IOLoop.instance().start()\n  File \"/Users/owainevans/anaconda2/envs/uni_start/lib/python3.5/site-packages/zmq/eventloop/ioloop.py\", line 177, in start\n    super(ZMQIOLoop, self).start()\n  File \"/Users/owainevans/anaconda2/envs/uni_start/lib/python3.5/site-packages/tornado/ioloop.py\", line 887, in start\n    handler_func(fd_obj, events)\n  File \"/Users/owainevans/anaconda2/envs/uni_start/lib/python3.5/site-packages/tornado/stack_context.py\", line 275, in null_wrapper\n    return fn(*args, **kwargs)\n  File \"/Users/owainevans/anaconda2/envs/uni_start/lib/python3.5/site-packages/zmq/eventloop/zmqstream.py\", line 440, in _handle_events\n    self._handle_recv()\n  File \"/Users/owainevans/anaconda2/envs/uni_start/lib/python3.5/site-packages/zmq/eventloop/zmqstream.py\", line 472, in _handle_recv\n    self._run_callback(callback, msg)\n  File \"/Users/owainevans/anaconda2/envs/uni_start/lib/python3.5/site-packages/zmq/eventloop/zmqstream.py\", line 414, in _run_callback\n    callback(*args, **kwargs)\n  File \"/Users/owainevans/anaconda2/envs/uni_start/lib/python3.5/site-packages/tornado/stack_context.py\", line 275, in null_wrapper\n    return fn(*args, **kwargs)\n  File \"/Users/owainevans/anaconda2/envs/uni_start/lib/python3.5/site-packages/ipykernel/kernelbase.py\", line 276, in dispatcher\n    return self.dispatch_shell(stream, msg)\n  File \"/Users/owainevans/anaconda2/envs/uni_start/lib/python3.5/site-packages/ipykernel/kernelbase.py\", line 228, in dispatch_shell\n    handler(stream, idents, msg)\n  File \"/Users/owainevans/anaconda2/envs/uni_start/lib/python3.5/site-packages/ipykernel/kernelbase.py\", line 390, in execute_request\n    user_expressions, allow_stdin)\n  File \"/Users/owainevans/anaconda2/envs/uni_start/lib/python3.5/site-packages/ipykernel/ipkernel.py\", line 196, in do_execute\n    res = shell.run_cell(code, store_history=store_history, silent=silent)\n  File \"/Users/owainevans/anaconda2/envs/uni_start/lib/python3.5/site-packages/ipykernel/zmqshell.py\", line 501, in run_cell\n    return super(ZMQInteractiveShell, self).run_cell(*args, **kwargs)\n  File \"/Users/owainevans/anaconda2/envs/uni_start/lib/python3.5/site-packages/IPython/core/interactiveshell.py\", line 2717, in run_cell\n    interactivity=interactivity, compiler=compiler, result=result)\n  File \"/Users/owainevans/anaconda2/envs/uni_start/lib/python3.5/site-packages/IPython/core/interactiveshell.py\", line 2821, in run_ast_nodes\n    if self.run_code(code, result):\n  File \"/Users/owainevans/anaconda2/envs/uni_start/lib/python3.5/site-packages/IPython/core/interactiveshell.py\", line 2881, in run_code\n    exec(code_obj, self.user_global_ns, self.user_ns)\n  File \"<ipython-input-8-e070856b00f6>\", line 16, in <module>\n    classifier.fit(input_fn=get_train_inputs, steps=2000)\n  File \"/Users/owainevans/anaconda2/envs/uni_start/lib/python3.5/site-packages/tensorflow/contrib/learn/python/learn/estimators/dnn.py\", line 315, in fit\n    max_steps=max_steps)\n  File \"/Users/owainevans/anaconda2/envs/uni_start/lib/python3.5/site-packages/tensorflow/python/util/deprecation.py\", line 191, in new_func\n    return func(*args, **kwargs)\n  File \"/Users/owainevans/anaconda2/envs/uni_start/lib/python3.5/site-packages/tensorflow/contrib/learn/python/learn/estimators/estimator.py\", line 355, in fit\n    max_steps=max_steps)\n  File \"/Users/owainevans/anaconda2/envs/uni_start/lib/python3.5/site-packages/tensorflow/contrib/learn/python/learn/estimators/estimator.py\", line 733, in _train_model\n    max_steps=max_steps)\n  File \"/Users/owainevans/anaconda2/envs/uni_start/lib/python3.5/site-packages/tensorflow/contrib/learn/python/learn/graph_actions.py\", line 297, in _monitored_train\n    hooks=all_hooks) as super_sess:\n  File \"/Users/owainevans/anaconda2/envs/uni_start/lib/python3.5/site-packages/tensorflow/python/training/monitored_session.py\", line 447, in __init__\n    self._sess = _RecoverableSession(self._coordinated_creator)\n  File \"/Users/owainevans/anaconda2/envs/uni_start/lib/python3.5/site-packages/tensorflow/python/training/monitored_session.py\", line 618, in __init__\n    _WrappedSession.__init__(self, self._sess_creator.create_session())\n  File \"/Users/owainevans/anaconda2/envs/uni_start/lib/python3.5/site-packages/tensorflow/python/training/monitored_session.py\", line 505, in create_session\n    self.tf_sess = self._session_creator.create_session()\n  File \"/Users/owainevans/anaconda2/envs/uni_start/lib/python3.5/site-packages/tensorflow/python/training/monitored_session.py\", line 333, in create_session\n    self._scaffold.finalize()\n  File \"/Users/owainevans/anaconda2/envs/uni_start/lib/python3.5/site-packages/tensorflow/python/training/monitored_session.py\", line 163, in finalize\n    self._saver.build()\n  File \"/Users/owainevans/anaconda2/envs/uni_start/lib/python3.5/site-packages/tensorflow/python/training/saver.py\", line 1030, in build\n    restore_sequentially=self._restore_sequentially)\n  File \"/Users/owainevans/anaconda2/envs/uni_start/lib/python3.5/site-packages/tensorflow/python/training/saver.py\", line 620, in build\n    restore_sequentially, reshape)\n  File \"/Users/owainevans/anaconda2/envs/uni_start/lib/python3.5/site-packages/tensorflow/python/training/saver.py\", line 404, in _AddShardedRestoreOps\n    name=\"restore_shard\"))\n  File \"/Users/owainevans/anaconda2/envs/uni_start/lib/python3.5/site-packages/tensorflow/python/training/saver.py\", line 361, in _AddRestoreOps\n    tensors = self.restore_op(filename_tensor, saveable, preferred_shard)\n  File \"/Users/owainevans/anaconda2/envs/uni_start/lib/python3.5/site-packages/tensorflow/python/training/saver.py\", line 200, in restore_op\n    [spec.tensor.dtype])[0])\n  File \"/Users/owainevans/anaconda2/envs/uni_start/lib/python3.5/site-packages/tensorflow/python/ops/gen_io_ops.py\", line 441, in restore_v2\n    dtypes=dtypes, name=name)\n  File \"/Users/owainevans/anaconda2/envs/uni_start/lib/python3.5/site-packages/tensorflow/python/framework/op_def_library.py\", line 759, in apply_op\n    op_def=op_def)\n  File \"/Users/owainevans/anaconda2/envs/uni_start/lib/python3.5/site-packages/tensorflow/python/framework/ops.py\", line 2240, in create_op\n    original_op=self._default_original_op, op_def=op_def)\n  File \"/Users/owainevans/anaconda2/envs/uni_start/lib/python3.5/site-packages/tensorflow/python/framework/ops.py\", line 1128, in __init__\n    self._traceback = _extract_stack()\n\nInvalidArgumentError (see above for traceback): Shape in shape_and_slice spec does not match the shape in the save file: [10,3], save file shape: [10,1]\n\t [[Node: save/RestoreV2_16 = RestoreV2[dtypes=[DT_FLOAT], _device=\"/job:localhost/replica:0/task:0/cpu:0\"](_recv_save/Const_0, save/RestoreV2_16/tensor_names, save/RestoreV2_16/shape_and_slices)]]\n",
     "output_type": "error",
     "traceback": [
      "\u001b[0;31m---------------------------------------------------------------------------\u001b[0m",
      "\u001b[0;31mInvalidArgumentError\u001b[0m                      Traceback (most recent call last)",
      "\u001b[0;32m/Users/owainevans/anaconda2/envs/uni_start/lib/python3.5/site-packages/tensorflow/python/client/session.py\u001b[0m in \u001b[0;36m_do_call\u001b[0;34m(self, fn, *args)\u001b[0m\n\u001b[1;32m   1020\u001b[0m     \u001b[0;32mtry\u001b[0m\u001b[0;34m:\u001b[0m\u001b[0;34m\u001b[0m\u001b[0m\n\u001b[0;32m-> 1021\u001b[0;31m       \u001b[0;32mreturn\u001b[0m \u001b[0mfn\u001b[0m\u001b[0;34m(\u001b[0m\u001b[0;34m*\u001b[0m\u001b[0margs\u001b[0m\u001b[0;34m)\u001b[0m\u001b[0;34m\u001b[0m\u001b[0m\n\u001b[0m\u001b[1;32m   1022\u001b[0m     \u001b[0;32mexcept\u001b[0m \u001b[0merrors\u001b[0m\u001b[0;34m.\u001b[0m\u001b[0mOpError\u001b[0m \u001b[0;32mas\u001b[0m \u001b[0me\u001b[0m\u001b[0;34m:\u001b[0m\u001b[0;34m\u001b[0m\u001b[0m\n",
      "\u001b[0;32m/Users/owainevans/anaconda2/envs/uni_start/lib/python3.5/site-packages/tensorflow/python/client/session.py\u001b[0m in \u001b[0;36m_run_fn\u001b[0;34m(session, feed_dict, fetch_list, target_list, options, run_metadata)\u001b[0m\n\u001b[1;32m   1002\u001b[0m                                  \u001b[0mfeed_dict\u001b[0m\u001b[0;34m,\u001b[0m \u001b[0mfetch_list\u001b[0m\u001b[0;34m,\u001b[0m \u001b[0mtarget_list\u001b[0m\u001b[0;34m,\u001b[0m\u001b[0;34m\u001b[0m\u001b[0m\n\u001b[0;32m-> 1003\u001b[0;31m                                  status, run_metadata)\n\u001b[0m\u001b[1;32m   1004\u001b[0m \u001b[0;34m\u001b[0m\u001b[0m\n",
      "\u001b[0;32m/Users/owainevans/anaconda2/envs/uni_start/lib/python3.5/contextlib.py\u001b[0m in \u001b[0;36m__exit__\u001b[0;34m(self, type, value, traceback)\u001b[0m\n\u001b[1;32m     65\u001b[0m             \u001b[0;32mtry\u001b[0m\u001b[0;34m:\u001b[0m\u001b[0;34m\u001b[0m\u001b[0m\n\u001b[0;32m---> 66\u001b[0;31m                 \u001b[0mnext\u001b[0m\u001b[0;34m(\u001b[0m\u001b[0mself\u001b[0m\u001b[0;34m.\u001b[0m\u001b[0mgen\u001b[0m\u001b[0;34m)\u001b[0m\u001b[0;34m\u001b[0m\u001b[0m\n\u001b[0m\u001b[1;32m     67\u001b[0m             \u001b[0;32mexcept\u001b[0m \u001b[0mStopIteration\u001b[0m\u001b[0;34m:\u001b[0m\u001b[0;34m\u001b[0m\u001b[0m\n",
      "\u001b[0;32m/Users/owainevans/anaconda2/envs/uni_start/lib/python3.5/site-packages/tensorflow/python/framework/errors_impl.py\u001b[0m in \u001b[0;36mraise_exception_on_not_ok_status\u001b[0;34m()\u001b[0m\n\u001b[1;32m    468\u001b[0m           \u001b[0mcompat\u001b[0m\u001b[0;34m.\u001b[0m\u001b[0mas_text\u001b[0m\u001b[0;34m(\u001b[0m\u001b[0mpywrap_tensorflow\u001b[0m\u001b[0;34m.\u001b[0m\u001b[0mTF_Message\u001b[0m\u001b[0;34m(\u001b[0m\u001b[0mstatus\u001b[0m\u001b[0;34m)\u001b[0m\u001b[0;34m)\u001b[0m\u001b[0;34m,\u001b[0m\u001b[0;34m\u001b[0m\u001b[0m\n\u001b[0;32m--> 469\u001b[0;31m           pywrap_tensorflow.TF_GetCode(status))\n\u001b[0m\u001b[1;32m    470\u001b[0m   \u001b[0;32mfinally\u001b[0m\u001b[0;34m:\u001b[0m\u001b[0;34m\u001b[0m\u001b[0m\n",
      "\u001b[0;31mInvalidArgumentError\u001b[0m: Shape in shape_and_slice spec does not match the shape in the save file: [10,3], save file shape: [10,1]\n\t [[Node: save/RestoreV2_16 = RestoreV2[dtypes=[DT_FLOAT], _device=\"/job:localhost/replica:0/task:0/cpu:0\"](_recv_save/Const_0, save/RestoreV2_16/tensor_names, save/RestoreV2_16/shape_and_slices)]]",
      "\nDuring handling of the above exception, another exception occurred:\n",
      "\u001b[0;31mInvalidArgumentError\u001b[0m                      Traceback (most recent call last)",
      "\u001b[0;32m<ipython-input-8-e070856b00f6>\u001b[0m in \u001b[0;36m<module>\u001b[0;34m()\u001b[0m\n\u001b[1;32m     14\u001b[0m \u001b[0;34m\u001b[0m\u001b[0m\n\u001b[1;32m     15\u001b[0m \u001b[0;31m# Fit model.\u001b[0m\u001b[0;34m\u001b[0m\u001b[0;34m\u001b[0m\u001b[0m\n\u001b[0;32m---> 16\u001b[0;31m \u001b[0mclassifier\u001b[0m\u001b[0;34m.\u001b[0m\u001b[0mfit\u001b[0m\u001b[0;34m(\u001b[0m\u001b[0minput_fn\u001b[0m\u001b[0;34m=\u001b[0m\u001b[0mget_train_inputs\u001b[0m\u001b[0;34m,\u001b[0m \u001b[0msteps\u001b[0m\u001b[0;34m=\u001b[0m\u001b[0;36m2000\u001b[0m\u001b[0;34m)\u001b[0m\u001b[0;34m\u001b[0m\u001b[0m\n\u001b[0m\u001b[1;32m     17\u001b[0m \u001b[0;34m\u001b[0m\u001b[0m\n\u001b[1;32m     18\u001b[0m \u001b[0;31m# Define the test inputs\u001b[0m\u001b[0;34m\u001b[0m\u001b[0;34m\u001b[0m\u001b[0m\n",
      "\u001b[0;32m/Users/owainevans/anaconda2/envs/uni_start/lib/python3.5/site-packages/tensorflow/contrib/learn/python/learn/estimators/dnn.py\u001b[0m in \u001b[0;36mfit\u001b[0;34m(self, x, y, input_fn, steps, batch_size, monitors, max_steps)\u001b[0m\n\u001b[1;32m    313\u001b[0m                         \u001b[0mbatch_size\u001b[0m\u001b[0;34m=\u001b[0m\u001b[0mbatch_size\u001b[0m\u001b[0;34m,\u001b[0m\u001b[0;34m\u001b[0m\u001b[0m\n\u001b[1;32m    314\u001b[0m                         \u001b[0mmonitors\u001b[0m\u001b[0;34m=\u001b[0m\u001b[0mhooks\u001b[0m\u001b[0;34m,\u001b[0m\u001b[0;34m\u001b[0m\u001b[0m\n\u001b[0;32m--> 315\u001b[0;31m                         max_steps=max_steps)\n\u001b[0m\u001b[1;32m    316\u001b[0m     \u001b[0;32mreturn\u001b[0m \u001b[0mself\u001b[0m\u001b[0;34m\u001b[0m\u001b[0m\n\u001b[1;32m    317\u001b[0m \u001b[0;34m\u001b[0m\u001b[0m\n",
      "\u001b[0;32m/Users/owainevans/anaconda2/envs/uni_start/lib/python3.5/site-packages/tensorflow/python/util/deprecation.py\u001b[0m in \u001b[0;36mnew_func\u001b[0;34m(*args, **kwargs)\u001b[0m\n\u001b[1;32m    189\u001b[0m             \u001b[0m_call_location\u001b[0m\u001b[0;34m(\u001b[0m\u001b[0;34m)\u001b[0m\u001b[0;34m,\u001b[0m \u001b[0mdecorator_utils\u001b[0m\u001b[0;34m.\u001b[0m\u001b[0mget_qualified_name\u001b[0m\u001b[0;34m(\u001b[0m\u001b[0mfunc\u001b[0m\u001b[0;34m)\u001b[0m\u001b[0;34m,\u001b[0m\u001b[0;34m\u001b[0m\u001b[0m\n\u001b[1;32m    190\u001b[0m             func.__module__, arg_name, date, instructions)\n\u001b[0;32m--> 191\u001b[0;31m       \u001b[0;32mreturn\u001b[0m \u001b[0mfunc\u001b[0m\u001b[0;34m(\u001b[0m\u001b[0;34m*\u001b[0m\u001b[0margs\u001b[0m\u001b[0;34m,\u001b[0m \u001b[0;34m**\u001b[0m\u001b[0mkwargs\u001b[0m\u001b[0;34m)\u001b[0m\u001b[0;34m\u001b[0m\u001b[0m\n\u001b[0m\u001b[1;32m    192\u001b[0m     new_func.__doc__ = _add_deprecated_arg_notice_to_docstring(\n\u001b[1;32m    193\u001b[0m         func.__doc__, date, instructions)\n",
      "\u001b[0;32m/Users/owainevans/anaconda2/envs/uni_start/lib/python3.5/site-packages/tensorflow/contrib/learn/python/learn/estimators/estimator.py\u001b[0m in \u001b[0;36mfit\u001b[0;34m(self, x, y, input_fn, steps, batch_size, monitors, max_steps)\u001b[0m\n\u001b[1;32m    353\u001b[0m                              \u001b[0msteps\u001b[0m\u001b[0;34m=\u001b[0m\u001b[0msteps\u001b[0m\u001b[0;34m,\u001b[0m\u001b[0;34m\u001b[0m\u001b[0m\n\u001b[1;32m    354\u001b[0m                              \u001b[0mmonitors\u001b[0m\u001b[0;34m=\u001b[0m\u001b[0mmonitors\u001b[0m\u001b[0;34m,\u001b[0m\u001b[0;34m\u001b[0m\u001b[0m\n\u001b[0;32m--> 355\u001b[0;31m                              max_steps=max_steps)\n\u001b[0m\u001b[1;32m    356\u001b[0m     \u001b[0mlogging\u001b[0m\u001b[0;34m.\u001b[0m\u001b[0minfo\u001b[0m\u001b[0;34m(\u001b[0m\u001b[0;34m'Loss for final step: %s.'\u001b[0m\u001b[0;34m,\u001b[0m \u001b[0mloss\u001b[0m\u001b[0;34m)\u001b[0m\u001b[0;34m\u001b[0m\u001b[0m\n\u001b[1;32m    357\u001b[0m     \u001b[0;32mreturn\u001b[0m \u001b[0mself\u001b[0m\u001b[0;34m\u001b[0m\u001b[0m\n",
      "\u001b[0;32m/Users/owainevans/anaconda2/envs/uni_start/lib/python3.5/site-packages/tensorflow/contrib/learn/python/learn/estimators/estimator.py\u001b[0m in \u001b[0;36m_train_model\u001b[0;34m(self, input_fn, steps, feed_fn, init_op, init_feed_fn, init_fn, device_fn, monitors, log_every_steps, fail_on_nan_loss, max_steps)\u001b[0m\n\u001b[1;32m    731\u001b[0m           \u001b[0mfail_on_nan_loss\u001b[0m\u001b[0;34m=\u001b[0m\u001b[0mfail_on_nan_loss\u001b[0m\u001b[0;34m,\u001b[0m\u001b[0;34m\u001b[0m\u001b[0m\n\u001b[1;32m    732\u001b[0m           \u001b[0mhooks\u001b[0m\u001b[0;34m=\u001b[0m\u001b[0mhooks\u001b[0m\u001b[0;34m,\u001b[0m\u001b[0;34m\u001b[0m\u001b[0m\n\u001b[0;32m--> 733\u001b[0;31m           max_steps=max_steps)\n\u001b[0m\u001b[1;32m    734\u001b[0m \u001b[0;34m\u001b[0m\u001b[0m\n\u001b[1;32m    735\u001b[0m   \u001b[0;32mdef\u001b[0m \u001b[0m_extract_metric_update_ops\u001b[0m\u001b[0;34m(\u001b[0m\u001b[0mself\u001b[0m\u001b[0;34m,\u001b[0m \u001b[0meval_dict\u001b[0m\u001b[0;34m)\u001b[0m\u001b[0;34m:\u001b[0m\u001b[0;34m\u001b[0m\u001b[0m\n",
      "\u001b[0;32m/Users/owainevans/anaconda2/envs/uni_start/lib/python3.5/site-packages/tensorflow/contrib/learn/python/learn/graph_actions.py\u001b[0m in \u001b[0;36m_monitored_train\u001b[0;34m(graph, output_dir, train_op, loss_op, global_step_tensor, init_op, init_feed_dict, init_fn, log_every_steps, supervisor_is_chief, supervisor_master, supervisor_save_model_secs, supervisor_save_model_steps, keep_checkpoint_max, supervisor_save_summaries_secs, supervisor_save_summaries_steps, feed_fn, steps, fail_on_nan_loss, hooks, max_steps)\u001b[0m\n\u001b[1;32m    295\u001b[0m     with monitored_session.MonitoredSession(\n\u001b[1;32m    296\u001b[0m         \u001b[0msession_creator\u001b[0m\u001b[0;34m=\u001b[0m\u001b[0msession_creator\u001b[0m\u001b[0;34m,\u001b[0m\u001b[0;34m\u001b[0m\u001b[0m\n\u001b[0;32m--> 297\u001b[0;31m         hooks=all_hooks) as super_sess:\n\u001b[0m\u001b[1;32m    298\u001b[0m       \u001b[0mloss\u001b[0m \u001b[0;34m=\u001b[0m \u001b[0;32mNone\u001b[0m\u001b[0;34m\u001b[0m\u001b[0m\n\u001b[1;32m    299\u001b[0m       \u001b[0;32mwhile\u001b[0m \u001b[0;32mnot\u001b[0m \u001b[0msuper_sess\u001b[0m\u001b[0;34m.\u001b[0m\u001b[0mshould_stop\u001b[0m\u001b[0;34m(\u001b[0m\u001b[0;34m)\u001b[0m\u001b[0;34m:\u001b[0m\u001b[0;34m\u001b[0m\u001b[0m\n",
      "\u001b[0;32m/Users/owainevans/anaconda2/envs/uni_start/lib/python3.5/site-packages/tensorflow/python/training/monitored_session.py\u001b[0m in \u001b[0;36m__init__\u001b[0;34m(self, session_creator, hooks)\u001b[0m\n\u001b[1;32m    445\u001b[0m         \u001b[0msession_creator\u001b[0m\u001b[0;34m=\u001b[0m\u001b[0msession_creator\u001b[0m \u001b[0;32mor\u001b[0m \u001b[0mChiefSessionCreator\u001b[0m\u001b[0;34m(\u001b[0m\u001b[0;34m)\u001b[0m\u001b[0;34m,\u001b[0m\u001b[0;34m\u001b[0m\u001b[0m\n\u001b[1;32m    446\u001b[0m         hooks=self._hooks)\n\u001b[0;32m--> 447\u001b[0;31m     \u001b[0mself\u001b[0m\u001b[0;34m.\u001b[0m\u001b[0m_sess\u001b[0m \u001b[0;34m=\u001b[0m \u001b[0m_RecoverableSession\u001b[0m\u001b[0;34m(\u001b[0m\u001b[0mself\u001b[0m\u001b[0;34m.\u001b[0m\u001b[0m_coordinated_creator\u001b[0m\u001b[0;34m)\u001b[0m\u001b[0;34m\u001b[0m\u001b[0m\n\u001b[0m\u001b[1;32m    448\u001b[0m \u001b[0;34m\u001b[0m\u001b[0m\n\u001b[1;32m    449\u001b[0m   \u001b[0;34m@\u001b[0m\u001b[0mproperty\u001b[0m\u001b[0;34m\u001b[0m\u001b[0m\n",
      "\u001b[0;32m/Users/owainevans/anaconda2/envs/uni_start/lib/python3.5/site-packages/tensorflow/python/training/monitored_session.py\u001b[0m in \u001b[0;36m__init__\u001b[0;34m(self, sess_creator)\u001b[0m\n\u001b[1;32m    616\u001b[0m     \"\"\"\n\u001b[1;32m    617\u001b[0m     \u001b[0mself\u001b[0m\u001b[0;34m.\u001b[0m\u001b[0m_sess_creator\u001b[0m \u001b[0;34m=\u001b[0m \u001b[0msess_creator\u001b[0m\u001b[0;34m\u001b[0m\u001b[0m\n\u001b[0;32m--> 618\u001b[0;31m     \u001b[0m_WrappedSession\u001b[0m\u001b[0;34m.\u001b[0m\u001b[0m__init__\u001b[0m\u001b[0;34m(\u001b[0m\u001b[0mself\u001b[0m\u001b[0;34m,\u001b[0m \u001b[0mself\u001b[0m\u001b[0;34m.\u001b[0m\u001b[0m_sess_creator\u001b[0m\u001b[0;34m.\u001b[0m\u001b[0mcreate_session\u001b[0m\u001b[0;34m(\u001b[0m\u001b[0;34m)\u001b[0m\u001b[0;34m)\u001b[0m\u001b[0;34m\u001b[0m\u001b[0m\n\u001b[0m\u001b[1;32m    619\u001b[0m \u001b[0;34m\u001b[0m\u001b[0m\n\u001b[1;32m    620\u001b[0m   \u001b[0;32mdef\u001b[0m \u001b[0mrun\u001b[0m\u001b[0;34m(\u001b[0m\u001b[0mself\u001b[0m\u001b[0;34m,\u001b[0m \u001b[0mfetches\u001b[0m\u001b[0;34m,\u001b[0m \u001b[0mfeed_dict\u001b[0m\u001b[0;34m=\u001b[0m\u001b[0;32mNone\u001b[0m\u001b[0;34m,\u001b[0m \u001b[0moptions\u001b[0m\u001b[0;34m=\u001b[0m\u001b[0;32mNone\u001b[0m\u001b[0;34m,\u001b[0m \u001b[0mrun_metadata\u001b[0m\u001b[0;34m=\u001b[0m\u001b[0;32mNone\u001b[0m\u001b[0;34m)\u001b[0m\u001b[0;34m:\u001b[0m\u001b[0;34m\u001b[0m\u001b[0m\n",
      "\u001b[0;32m/Users/owainevans/anaconda2/envs/uni_start/lib/python3.5/site-packages/tensorflow/python/training/monitored_session.py\u001b[0m in \u001b[0;36mcreate_session\u001b[0;34m(self)\u001b[0m\n\u001b[1;32m    503\u001b[0m       \u001b[0;34m\"\"\"Creates a coordinated session.\"\"\"\u001b[0m\u001b[0;34m\u001b[0m\u001b[0m\n\u001b[1;32m    504\u001b[0m       \u001b[0;31m# Keep the tf_sess for unit testing.\u001b[0m\u001b[0;34m\u001b[0m\u001b[0;34m\u001b[0m\u001b[0m\n\u001b[0;32m--> 505\u001b[0;31m       \u001b[0mself\u001b[0m\u001b[0;34m.\u001b[0m\u001b[0mtf_sess\u001b[0m \u001b[0;34m=\u001b[0m \u001b[0mself\u001b[0m\u001b[0;34m.\u001b[0m\u001b[0m_session_creator\u001b[0m\u001b[0;34m.\u001b[0m\u001b[0mcreate_session\u001b[0m\u001b[0;34m(\u001b[0m\u001b[0;34m)\u001b[0m\u001b[0;34m\u001b[0m\u001b[0m\n\u001b[0m\u001b[1;32m    506\u001b[0m       \u001b[0;31m# We don't want coordinator to suppress any exception.\u001b[0m\u001b[0;34m\u001b[0m\u001b[0;34m\u001b[0m\u001b[0m\n\u001b[1;32m    507\u001b[0m       \u001b[0mself\u001b[0m\u001b[0;34m.\u001b[0m\u001b[0mcoord\u001b[0m \u001b[0;34m=\u001b[0m \u001b[0mcoordinator\u001b[0m\u001b[0;34m.\u001b[0m\u001b[0mCoordinator\u001b[0m\u001b[0;34m(\u001b[0m\u001b[0mclean_stop_exception_types\u001b[0m\u001b[0;34m=\u001b[0m\u001b[0;34m[\u001b[0m\u001b[0;34m]\u001b[0m\u001b[0;34m)\u001b[0m\u001b[0;34m\u001b[0m\u001b[0m\n",
      "\u001b[0;32m/Users/owainevans/anaconda2/envs/uni_start/lib/python3.5/site-packages/tensorflow/python/training/monitored_session.py\u001b[0m in \u001b[0;36mcreate_session\u001b[0;34m(self)\u001b[0m\n\u001b[1;32m    339\u001b[0m         \u001b[0minit_op\u001b[0m\u001b[0;34m=\u001b[0m\u001b[0mself\u001b[0m\u001b[0;34m.\u001b[0m\u001b[0m_scaffold\u001b[0m\u001b[0;34m.\u001b[0m\u001b[0minit_op\u001b[0m\u001b[0;34m,\u001b[0m\u001b[0;34m\u001b[0m\u001b[0m\n\u001b[1;32m    340\u001b[0m         \u001b[0minit_feed_dict\u001b[0m\u001b[0;34m=\u001b[0m\u001b[0mself\u001b[0m\u001b[0;34m.\u001b[0m\u001b[0m_scaffold\u001b[0m\u001b[0;34m.\u001b[0m\u001b[0minit_feed_dict\u001b[0m\u001b[0;34m,\u001b[0m\u001b[0;34m\u001b[0m\u001b[0m\n\u001b[0;32m--> 341\u001b[0;31m         init_fn=self._scaffold.init_fn)\n\u001b[0m\u001b[1;32m    342\u001b[0m \u001b[0;34m\u001b[0m\u001b[0m\n\u001b[1;32m    343\u001b[0m \u001b[0;34m\u001b[0m\u001b[0m\n",
      "\u001b[0;32m/Users/owainevans/anaconda2/envs/uni_start/lib/python3.5/site-packages/tensorflow/python/training/session_manager.py\u001b[0m in \u001b[0;36mprepare_session\u001b[0;34m(self, master, init_op, saver, checkpoint_dir, wait_for_checkpoint, max_wait_secs, config, init_feed_dict, init_fn)\u001b[0m\n\u001b[1;32m    225\u001b[0m         \u001b[0mwait_for_checkpoint\u001b[0m\u001b[0;34m=\u001b[0m\u001b[0mwait_for_checkpoint\u001b[0m\u001b[0;34m,\u001b[0m\u001b[0;34m\u001b[0m\u001b[0m\n\u001b[1;32m    226\u001b[0m         \u001b[0mmax_wait_secs\u001b[0m\u001b[0;34m=\u001b[0m\u001b[0mmax_wait_secs\u001b[0m\u001b[0;34m,\u001b[0m\u001b[0;34m\u001b[0m\u001b[0m\n\u001b[0;32m--> 227\u001b[0;31m         config=config)\n\u001b[0m\u001b[1;32m    228\u001b[0m     \u001b[0;32mif\u001b[0m \u001b[0;32mnot\u001b[0m \u001b[0mis_loaded_from_checkpoint\u001b[0m\u001b[0;34m:\u001b[0m\u001b[0;34m\u001b[0m\u001b[0m\n\u001b[1;32m    229\u001b[0m       \u001b[0;32mif\u001b[0m \u001b[0minit_op\u001b[0m \u001b[0;32mis\u001b[0m \u001b[0;32mNone\u001b[0m \u001b[0;32mand\u001b[0m \u001b[0;32mnot\u001b[0m \u001b[0minit_fn\u001b[0m \u001b[0;32mand\u001b[0m \u001b[0mself\u001b[0m\u001b[0;34m.\u001b[0m\u001b[0m_local_init_op\u001b[0m \u001b[0;32mis\u001b[0m \u001b[0;32mNone\u001b[0m\u001b[0;34m:\u001b[0m\u001b[0;34m\u001b[0m\u001b[0m\n",
      "\u001b[0;32m/Users/owainevans/anaconda2/envs/uni_start/lib/python3.5/site-packages/tensorflow/python/training/session_manager.py\u001b[0m in \u001b[0;36m_restore_checkpoint\u001b[0;34m(self, master, saver, checkpoint_dir, wait_for_checkpoint, max_wait_secs, config)\u001b[0m\n\u001b[1;32m    171\u001b[0m \u001b[0;34m\u001b[0m\u001b[0m\n\u001b[1;32m    172\u001b[0m     \u001b[0;31m# Loads the checkpoint.\u001b[0m\u001b[0;34m\u001b[0m\u001b[0;34m\u001b[0m\u001b[0m\n\u001b[0;32m--> 173\u001b[0;31m     \u001b[0msaver\u001b[0m\u001b[0;34m.\u001b[0m\u001b[0mrestore\u001b[0m\u001b[0;34m(\u001b[0m\u001b[0msess\u001b[0m\u001b[0;34m,\u001b[0m \u001b[0mckpt\u001b[0m\u001b[0;34m.\u001b[0m\u001b[0mmodel_checkpoint_path\u001b[0m\u001b[0;34m)\u001b[0m\u001b[0;34m\u001b[0m\u001b[0m\n\u001b[0m\u001b[1;32m    174\u001b[0m     \u001b[0msaver\u001b[0m\u001b[0;34m.\u001b[0m\u001b[0mrecover_last_checkpoints\u001b[0m\u001b[0;34m(\u001b[0m\u001b[0mckpt\u001b[0m\u001b[0;34m.\u001b[0m\u001b[0mall_model_checkpoint_paths\u001b[0m\u001b[0;34m)\u001b[0m\u001b[0;34m\u001b[0m\u001b[0m\n\u001b[1;32m    175\u001b[0m     \u001b[0;32mreturn\u001b[0m \u001b[0msess\u001b[0m\u001b[0;34m,\u001b[0m \u001b[0;32mTrue\u001b[0m\u001b[0;34m\u001b[0m\u001b[0m\n",
      "\u001b[0;32m/Users/owainevans/anaconda2/envs/uni_start/lib/python3.5/site-packages/tensorflow/python/training/saver.py\u001b[0m in \u001b[0;36mrestore\u001b[0;34m(self, sess, save_path)\u001b[0m\n\u001b[1;32m   1386\u001b[0m       \u001b[0;32mreturn\u001b[0m\u001b[0;34m\u001b[0m\u001b[0m\n\u001b[1;32m   1387\u001b[0m     sess.run(self.saver_def.restore_op_name,\n\u001b[0;32m-> 1388\u001b[0;31m              {self.saver_def.filename_tensor_name: save_path})\n\u001b[0m\u001b[1;32m   1389\u001b[0m \u001b[0;34m\u001b[0m\u001b[0m\n\u001b[1;32m   1390\u001b[0m   \u001b[0;34m@\u001b[0m\u001b[0mstaticmethod\u001b[0m\u001b[0;34m\u001b[0m\u001b[0m\n",
      "\u001b[0;32m/Users/owainevans/anaconda2/envs/uni_start/lib/python3.5/site-packages/tensorflow/python/client/session.py\u001b[0m in \u001b[0;36mrun\u001b[0;34m(self, fetches, feed_dict, options, run_metadata)\u001b[0m\n\u001b[1;32m    764\u001b[0m     \u001b[0;32mtry\u001b[0m\u001b[0;34m:\u001b[0m\u001b[0;34m\u001b[0m\u001b[0m\n\u001b[1;32m    765\u001b[0m       result = self._run(None, fetches, feed_dict, options_ptr,\n\u001b[0;32m--> 766\u001b[0;31m                          run_metadata_ptr)\n\u001b[0m\u001b[1;32m    767\u001b[0m       \u001b[0;32mif\u001b[0m \u001b[0mrun_metadata\u001b[0m\u001b[0;34m:\u001b[0m\u001b[0;34m\u001b[0m\u001b[0m\n\u001b[1;32m    768\u001b[0m         \u001b[0mproto_data\u001b[0m \u001b[0;34m=\u001b[0m \u001b[0mtf_session\u001b[0m\u001b[0;34m.\u001b[0m\u001b[0mTF_GetBuffer\u001b[0m\u001b[0;34m(\u001b[0m\u001b[0mrun_metadata_ptr\u001b[0m\u001b[0;34m)\u001b[0m\u001b[0;34m\u001b[0m\u001b[0m\n",
      "\u001b[0;32m/Users/owainevans/anaconda2/envs/uni_start/lib/python3.5/site-packages/tensorflow/python/client/session.py\u001b[0m in \u001b[0;36m_run\u001b[0;34m(self, handle, fetches, feed_dict, options, run_metadata)\u001b[0m\n\u001b[1;32m    962\u001b[0m     \u001b[0;32mif\u001b[0m \u001b[0mfinal_fetches\u001b[0m \u001b[0;32mor\u001b[0m \u001b[0mfinal_targets\u001b[0m\u001b[0;34m:\u001b[0m\u001b[0;34m\u001b[0m\u001b[0m\n\u001b[1;32m    963\u001b[0m       results = self._do_run(handle, final_targets, final_fetches,\n\u001b[0;32m--> 964\u001b[0;31m                              feed_dict_string, options, run_metadata)\n\u001b[0m\u001b[1;32m    965\u001b[0m     \u001b[0;32melse\u001b[0m\u001b[0;34m:\u001b[0m\u001b[0;34m\u001b[0m\u001b[0m\n\u001b[1;32m    966\u001b[0m       \u001b[0mresults\u001b[0m \u001b[0;34m=\u001b[0m \u001b[0;34m[\u001b[0m\u001b[0;34m]\u001b[0m\u001b[0;34m\u001b[0m\u001b[0m\n",
      "\u001b[0;32m/Users/owainevans/anaconda2/envs/uni_start/lib/python3.5/site-packages/tensorflow/python/client/session.py\u001b[0m in \u001b[0;36m_do_run\u001b[0;34m(self, handle, target_list, fetch_list, feed_dict, options, run_metadata)\u001b[0m\n\u001b[1;32m   1012\u001b[0m     \u001b[0;32mif\u001b[0m \u001b[0mhandle\u001b[0m \u001b[0;32mis\u001b[0m \u001b[0;32mNone\u001b[0m\u001b[0;34m:\u001b[0m\u001b[0;34m\u001b[0m\u001b[0m\n\u001b[1;32m   1013\u001b[0m       return self._do_call(_run_fn, self._session, feed_dict, fetch_list,\n\u001b[0;32m-> 1014\u001b[0;31m                            target_list, options, run_metadata)\n\u001b[0m\u001b[1;32m   1015\u001b[0m     \u001b[0;32melse\u001b[0m\u001b[0;34m:\u001b[0m\u001b[0;34m\u001b[0m\u001b[0m\n\u001b[1;32m   1016\u001b[0m       return self._do_call(_prun_fn, self._session, handle, feed_dict,\n",
      "\u001b[0;32m/Users/owainevans/anaconda2/envs/uni_start/lib/python3.5/site-packages/tensorflow/python/client/session.py\u001b[0m in \u001b[0;36m_do_call\u001b[0;34m(self, fn, *args)\u001b[0m\n\u001b[1;32m   1032\u001b[0m         \u001b[0;32mexcept\u001b[0m \u001b[0mKeyError\u001b[0m\u001b[0;34m:\u001b[0m\u001b[0;34m\u001b[0m\u001b[0m\n\u001b[1;32m   1033\u001b[0m           \u001b[0;32mpass\u001b[0m\u001b[0;34m\u001b[0m\u001b[0m\n\u001b[0;32m-> 1034\u001b[0;31m       \u001b[0;32mraise\u001b[0m \u001b[0mtype\u001b[0m\u001b[0;34m(\u001b[0m\u001b[0me\u001b[0m\u001b[0;34m)\u001b[0m\u001b[0;34m(\u001b[0m\u001b[0mnode_def\u001b[0m\u001b[0;34m,\u001b[0m \u001b[0mop\u001b[0m\u001b[0;34m,\u001b[0m \u001b[0mmessage\u001b[0m\u001b[0;34m)\u001b[0m\u001b[0;34m\u001b[0m\u001b[0m\n\u001b[0m\u001b[1;32m   1035\u001b[0m \u001b[0;34m\u001b[0m\u001b[0m\n\u001b[1;32m   1036\u001b[0m   \u001b[0;32mdef\u001b[0m \u001b[0m_extend_graph\u001b[0m\u001b[0;34m(\u001b[0m\u001b[0mself\u001b[0m\u001b[0;34m)\u001b[0m\u001b[0;34m:\u001b[0m\u001b[0;34m\u001b[0m\u001b[0m\n",
      "\u001b[0;31mInvalidArgumentError\u001b[0m: Shape in shape_and_slice spec does not match the shape in the save file: [10,3], save file shape: [10,1]\n\t [[Node: save/RestoreV2_16 = RestoreV2[dtypes=[DT_FLOAT], _device=\"/job:localhost/replica:0/task:0/cpu:0\"](_recv_save/Const_0, save/RestoreV2_16/tensor_names, save/RestoreV2_16/shape_and_slices)]]\n\nCaused by op 'save/RestoreV2_16', defined at:\n  File \"/Users/owainevans/anaconda2/envs/uni_start/lib/python3.5/runpy.py\", line 184, in _run_module_as_main\n    \"__main__\", mod_spec)\n  File \"/Users/owainevans/anaconda2/envs/uni_start/lib/python3.5/runpy.py\", line 85, in _run_code\n    exec(code, run_globals)\n  File \"/Users/owainevans/anaconda2/envs/uni_start/lib/python3.5/site-packages/ipykernel/__main__.py\", line 3, in <module>\n    app.launch_new_instance()\n  File \"/Users/owainevans/anaconda2/envs/uni_start/lib/python3.5/site-packages/traitlets/config/application.py\", line 658, in launch_instance\n    app.start()\n  File \"/Users/owainevans/anaconda2/envs/uni_start/lib/python3.5/site-packages/ipykernel/kernelapp.py\", line 474, in start\n    ioloop.IOLoop.instance().start()\n  File \"/Users/owainevans/anaconda2/envs/uni_start/lib/python3.5/site-packages/zmq/eventloop/ioloop.py\", line 177, in start\n    super(ZMQIOLoop, self).start()\n  File \"/Users/owainevans/anaconda2/envs/uni_start/lib/python3.5/site-packages/tornado/ioloop.py\", line 887, in start\n    handler_func(fd_obj, events)\n  File \"/Users/owainevans/anaconda2/envs/uni_start/lib/python3.5/site-packages/tornado/stack_context.py\", line 275, in null_wrapper\n    return fn(*args, **kwargs)\n  File \"/Users/owainevans/anaconda2/envs/uni_start/lib/python3.5/site-packages/zmq/eventloop/zmqstream.py\", line 440, in _handle_events\n    self._handle_recv()\n  File \"/Users/owainevans/anaconda2/envs/uni_start/lib/python3.5/site-packages/zmq/eventloop/zmqstream.py\", line 472, in _handle_recv\n    self._run_callback(callback, msg)\n  File \"/Users/owainevans/anaconda2/envs/uni_start/lib/python3.5/site-packages/zmq/eventloop/zmqstream.py\", line 414, in _run_callback\n    callback(*args, **kwargs)\n  File \"/Users/owainevans/anaconda2/envs/uni_start/lib/python3.5/site-packages/tornado/stack_context.py\", line 275, in null_wrapper\n    return fn(*args, **kwargs)\n  File \"/Users/owainevans/anaconda2/envs/uni_start/lib/python3.5/site-packages/ipykernel/kernelbase.py\", line 276, in dispatcher\n    return self.dispatch_shell(stream, msg)\n  File \"/Users/owainevans/anaconda2/envs/uni_start/lib/python3.5/site-packages/ipykernel/kernelbase.py\", line 228, in dispatch_shell\n    handler(stream, idents, msg)\n  File \"/Users/owainevans/anaconda2/envs/uni_start/lib/python3.5/site-packages/ipykernel/kernelbase.py\", line 390, in execute_request\n    user_expressions, allow_stdin)\n  File \"/Users/owainevans/anaconda2/envs/uni_start/lib/python3.5/site-packages/ipykernel/ipkernel.py\", line 196, in do_execute\n    res = shell.run_cell(code, store_history=store_history, silent=silent)\n  File \"/Users/owainevans/anaconda2/envs/uni_start/lib/python3.5/site-packages/ipykernel/zmqshell.py\", line 501, in run_cell\n    return super(ZMQInteractiveShell, self).run_cell(*args, **kwargs)\n  File \"/Users/owainevans/anaconda2/envs/uni_start/lib/python3.5/site-packages/IPython/core/interactiveshell.py\", line 2717, in run_cell\n    interactivity=interactivity, compiler=compiler, result=result)\n  File \"/Users/owainevans/anaconda2/envs/uni_start/lib/python3.5/site-packages/IPython/core/interactiveshell.py\", line 2821, in run_ast_nodes\n    if self.run_code(code, result):\n  File \"/Users/owainevans/anaconda2/envs/uni_start/lib/python3.5/site-packages/IPython/core/interactiveshell.py\", line 2881, in run_code\n    exec(code_obj, self.user_global_ns, self.user_ns)\n  File \"<ipython-input-8-e070856b00f6>\", line 16, in <module>\n    classifier.fit(input_fn=get_train_inputs, steps=2000)\n  File \"/Users/owainevans/anaconda2/envs/uni_start/lib/python3.5/site-packages/tensorflow/contrib/learn/python/learn/estimators/dnn.py\", line 315, in fit\n    max_steps=max_steps)\n  File \"/Users/owainevans/anaconda2/envs/uni_start/lib/python3.5/site-packages/tensorflow/python/util/deprecation.py\", line 191, in new_func\n    return func(*args, **kwargs)\n  File \"/Users/owainevans/anaconda2/envs/uni_start/lib/python3.5/site-packages/tensorflow/contrib/learn/python/learn/estimators/estimator.py\", line 355, in fit\n    max_steps=max_steps)\n  File \"/Users/owainevans/anaconda2/envs/uni_start/lib/python3.5/site-packages/tensorflow/contrib/learn/python/learn/estimators/estimator.py\", line 733, in _train_model\n    max_steps=max_steps)\n  File \"/Users/owainevans/anaconda2/envs/uni_start/lib/python3.5/site-packages/tensorflow/contrib/learn/python/learn/graph_actions.py\", line 297, in _monitored_train\n    hooks=all_hooks) as super_sess:\n  File \"/Users/owainevans/anaconda2/envs/uni_start/lib/python3.5/site-packages/tensorflow/python/training/monitored_session.py\", line 447, in __init__\n    self._sess = _RecoverableSession(self._coordinated_creator)\n  File \"/Users/owainevans/anaconda2/envs/uni_start/lib/python3.5/site-packages/tensorflow/python/training/monitored_session.py\", line 618, in __init__\n    _WrappedSession.__init__(self, self._sess_creator.create_session())\n  File \"/Users/owainevans/anaconda2/envs/uni_start/lib/python3.5/site-packages/tensorflow/python/training/monitored_session.py\", line 505, in create_session\n    self.tf_sess = self._session_creator.create_session()\n  File \"/Users/owainevans/anaconda2/envs/uni_start/lib/python3.5/site-packages/tensorflow/python/training/monitored_session.py\", line 333, in create_session\n    self._scaffold.finalize()\n  File \"/Users/owainevans/anaconda2/envs/uni_start/lib/python3.5/site-packages/tensorflow/python/training/monitored_session.py\", line 163, in finalize\n    self._saver.build()\n  File \"/Users/owainevans/anaconda2/envs/uni_start/lib/python3.5/site-packages/tensorflow/python/training/saver.py\", line 1030, in build\n    restore_sequentially=self._restore_sequentially)\n  File \"/Users/owainevans/anaconda2/envs/uni_start/lib/python3.5/site-packages/tensorflow/python/training/saver.py\", line 620, in build\n    restore_sequentially, reshape)\n  File \"/Users/owainevans/anaconda2/envs/uni_start/lib/python3.5/site-packages/tensorflow/python/training/saver.py\", line 404, in _AddShardedRestoreOps\n    name=\"restore_shard\"))\n  File \"/Users/owainevans/anaconda2/envs/uni_start/lib/python3.5/site-packages/tensorflow/python/training/saver.py\", line 361, in _AddRestoreOps\n    tensors = self.restore_op(filename_tensor, saveable, preferred_shard)\n  File \"/Users/owainevans/anaconda2/envs/uni_start/lib/python3.5/site-packages/tensorflow/python/training/saver.py\", line 200, in restore_op\n    [spec.tensor.dtype])[0])\n  File \"/Users/owainevans/anaconda2/envs/uni_start/lib/python3.5/site-packages/tensorflow/python/ops/gen_io_ops.py\", line 441, in restore_v2\n    dtypes=dtypes, name=name)\n  File \"/Users/owainevans/anaconda2/envs/uni_start/lib/python3.5/site-packages/tensorflow/python/framework/op_def_library.py\", line 759, in apply_op\n    op_def=op_def)\n  File \"/Users/owainevans/anaconda2/envs/uni_start/lib/python3.5/site-packages/tensorflow/python/framework/ops.py\", line 2240, in create_op\n    original_op=self._default_original_op, op_def=op_def)\n  File \"/Users/owainevans/anaconda2/envs/uni_start/lib/python3.5/site-packages/tensorflow/python/framework/ops.py\", line 1128, in __init__\n    self._traceback = _extract_stack()\n\nInvalidArgumentError (see above for traceback): Shape in shape_and_slice spec does not match the shape in the save file: [10,3], save file shape: [10,1]\n\t [[Node: save/RestoreV2_16 = RestoreV2[dtypes=[DT_FLOAT], _device=\"/job:localhost/replica:0/task:0/cpu:0\"](_recv_save/Const_0, save/RestoreV2_16/tensor_names, save/RestoreV2_16/shape_and_slices)]]\n"
     ]
    }
   ],
   "source": [
    "# Specify that all features have real-value data\n",
    "feature_columns = [tf.contrib.layers.real_valued_column(\"\", dimension=4)]\n",
    "\n",
    "# Build 3 layer DNN with 10, 20, 10 units respectively.\n",
    "classifier = tf.contrib.learn.DNNClassifier(feature_columns=feature_columns,\n",
    "                                              hidden_units=[10, 20, 10],\n",
    "                                              n_classes=3,\n",
    "                                              model_dir=\"/tmp/\")\n",
    "# Define the training inputs\n",
    "def get_train_inputs():\n",
    "    x = tf.constant(training_set.data)\n",
    "    y = tf.constant(training_set.target)\n",
    "    return x, y\n",
    "\n",
    "# Fit model.\n",
    "classifier.fit(input_fn=get_train_inputs, steps=2000)\n",
    "\n",
    "# Define the test inputs\n",
    "def get_test_inputs():\n",
    "    x = tf.constant(test_set.data)\n",
    "    y = tf.constant(test_set.target)\n",
    "    return x, y\n",
    "\n",
    "# Evaluate accuracy.\n",
    "accuracy_score = classifier.evaluate(input_fn=get_test_inputs,\n",
    "                                   steps=1)[\"accuracy\"]\n",
    "\n",
    "print(\"\\nTest Accuracy: {0:f}\\n\".format(accuracy_score))\n"
   ]
  },
  {
   "cell_type": "code",
   "execution_count": 7,
   "metadata": {
    "collapsed": false,
    "scrolled": false
   },
   "outputs": [
    {
     "name": "stdout",
     "output_type": "stream",
     "text": [
      "step 0, training accuracy 0.04\n",
      "step 100, training accuracy 0.78\n",
      "step 200, training accuracy 0.92\n",
      "test accuracy 0.9044\n"
     ]
    },
    {
     "data": {
      "text/plain": [
       "[<matplotlib.lines.Line2D at 0x138da9c18>]"
      ]
     },
     "execution_count": 7,
     "metadata": {},
     "output_type": "execute_result"
    },
    {
     "data": {
      "image/png": "[encoded data removed]",
      "text/plain": [
       "<matplotlib.figure.Figure at 0x1322fc390>"
      ]
     },
     "metadata": {},
     "output_type": "display_data"
    }
   ],
   "source": [
    "d = 784\n",
    "number_classes = 10\n",
    "x = tf.placeholder(tf.float32, shape=[None, d])\n",
    "y_ = tf.placeholder(tf.float32, shape=[None, number_classes])\n",
    "x_image = tf.reshape(x, [-1,28,28,1])\n",
    "\n",
    "#layer 1\n",
    "num_filters1 = 32\n",
    "W_conv1 = weight_variable([5, 5, 1, num_filters1])\n",
    "b_conv1 = bias_variable([num_filters1])\n",
    "\n",
    "h_conv1 = tf.nn.relu(conv2d(x_image, W_conv1) + b_conv1)\n",
    "h_pool1 = max_pool_2x2(h_conv1)\n",
    "\n",
    "# layer 2\n",
    "W_conv2 = weight_variable([5, 5, num_filters1, 64])\n",
    "b_conv2 = bias_variable([64])\n",
    "\n",
    "h_conv2 = tf.nn.relu(conv2d(h_pool1, W_conv2) + b_conv2)\n",
    "h_pool2 = max_pool_2x2(h_conv2)\n",
    "\n",
    "\n",
    "# FC layer 1\n",
    "len_fc = 200\n",
    "W_fc1 = weight_variable([7 * 7 * 64, len_fc])\n",
    "b_fc1 = bias_variable([len_fc])\n",
    "\n",
    "h_pool2_flat = tf.reshape(h_pool2, [-1, 7*7*64])\n",
    "h_fc1 = tf.nn.relu(tf.matmul(h_pool2_flat, W_fc1) + b_fc1)\n",
    "\n",
    "#keep_prob = tf.placeholder(tf.float32)\n",
    "#h_fc1_drop = tf.nn.dropout(h_fc1, keep_prob)\n",
    "\n",
    "## FC layer 2\n",
    "W_fc2 = weight_variable([len_fc, 10])\n",
    "b_fc2 = bias_variable([10])\n",
    "\n",
    "#y_conv = tf.matmul(h_fc1_drop, W_fc2) + b_fc2\n",
    "y_conv = tf.matmul(h_fc1, W_fc2) + b_fc2\n",
    "\n",
    "\n",
    "cross_entropy = tf.reduce_mean(\n",
    "    tf.nn.softmax_cross_entropy_with_logits(labels=y_, logits=y_conv))\n",
    "\n",
    "train_step = tf.train.AdamOptimizer(1e-4).minimize(cross_entropy)\n",
    "\n",
    "correct_prediction = tf.equal(tf.argmax(y_conv,1), tf.argmax(y_,1))\n",
    "\n",
    "accuracy = tf.reduce_mean(tf.cast(correct_prediction, tf.float32))\n",
    "accuracy_graph = []\n",
    "\n",
    "sess.run(tf.global_variables_initializer())\n",
    "for i in range(300):\n",
    "  batch = mnist.train.next_batch(50)\n",
    "\n",
    "\n",
    "  if i%20 == 0:\n",
    "    train_accuracy = accuracy.eval(feed_dict={x:batch[0], y_: batch[1]})\n",
    "    accuracy_graph.append(1.-train_accuracy)\n",
    "    if i%100==0:\n",
    "        print(\"step %d, training accuracy %g\"%(i, train_accuracy))\n",
    "  train_step.run(feed_dict={x: batch[0], y_: batch[1]})\n",
    "\n",
    "\n",
    "print(\"test accuracy %g\"%accuracy.eval(feed_dict={\n",
    "    x: mnist.test.images, y_: mnist.test.labels}))\n",
    "\n",
    "plt.plot(accuracy_graph)"
   ]
  },
  {
   "cell_type": "code",
   "execution_count": 26,
   "metadata": {
    "collapsed": false
   },
   "outputs": [
    {
     "data": {
      "text/plain": [
       "(array([ 13.,   6.,  28.,  10.,  28.,  41.,  21.,  58.,  24.,  49.]),\n",
       " array([ 0. ,  0.9,  1.8,  2.7,  3.6,  4.5,  5.4,  6.3,  7.2,  8.1,  9. ]),\n",
       " <a list of 10 Patch objects>)"
      ]
     },
     "execution_count": 26,
     "metadata": {},
     "output_type": "execute_result"
    },
    {
     "data": {
      "image/png": "[encoded data removed]",
      "text/plain": [
       "<matplotlib.figure.Figure at 0x111f24198>"
      ]
     },
     "metadata": {},
     "output_type": "display_data"
    }
   ],
   "source": [
    "correct = correct_prediction.eval(feed_dict={x: mnist.test.images, y_: mnist.test.labels})\n",
    "wrong = [not(b) for b in correct]\n",
    "errors = mnist.test.images[wrong]\n",
    "error_labels = tf.argmax(mnist.test.labels[wrong],1).eval()\n",
    "plt.hist(error_labels)"
   ]
  },
  {
   "cell_type": "code",
   "execution_count": 28,
   "metadata": {
    "collapsed": false,
    "scrolled": true
   },
   "outputs": [
    {
     "data": {
      "image/png": "[encoded data removed]",
      "text/plain": [
       "<matplotlib.figure.Figure at 0x13a2ff588>"
      ]
     },
     "metadata": {},
     "output_type": "display_data"
    },
    {
     "data": {
      "image/png": "[encoded data removed]",
      "text/plain": [
       "<matplotlib.figure.Figure at 0x13a333710>"
      ]
     },
     "metadata": {},
     "output_type": "display_data"
    },
    {
     "data": {
      "image/png": "[encoded data removed]",
      "text/plain": [
       "<matplotlib.figure.Figure at 0x11ad0c5f8>"
      ]
     },
     "metadata": {},
     "output_type": "display_data"
    },
    {
     "data": {
      "image/png": "[encoded data removed]",
      "text/plain": [
       "<matplotlib.figure.Figure at 0x13a3fd780>"
      ]
     },
     "metadata": {},
     "output_type": "display_data"
    },
    {
     "data": {
      "image/png": "[encoded data removed]",
      "text/plain": [
       "<matplotlib.figure.Figure at 0x13a44a898>"
      ]
     },
     "metadata": {},
     "output_type": "display_data"
    },
    {
     "data": {
      "image/png": "[encoded data removed]",
      "text/plain": [
       "<matplotlib.figure.Figure at 0x13a496550>"
      ]
     },
     "metadata": {},
     "output_type": "display_data"
    },
    {
     "data": {
      "image/png": "[encoded data removed]",
      "text/plain": [
       "<matplotlib.figure.Figure at 0x13a4e6828>"
      ]
     },
     "metadata": {},
     "output_type": "display_data"
    },
    {
     "data": {
      "image/png": "[encoded data removed]",
      "text/plain": [
       "<matplotlib.figure.Figure at 0x13a531320>"
      ]
     },
     "metadata": {},
     "output_type": "display_data"
    },
    {
     "data": {
      "image/png": "[encoded data removed]",
      "text/plain": [
       "<matplotlib.figure.Figure at 0x13a5835f8>"
      ]
     },
     "metadata": {},
     "output_type": "display_data"
    },
    {
     "data": {
      "image/png": "[encoded data removed]",
      "text/plain": [
       "<matplotlib.figure.Figure at 0x13a5ce0f0>"
      ]
     },
     "metadata": {},
     "output_type": "display_data"
    }
   ],
   "source": [
    "for im in errors[:10]:\n",
    "    show_x(im)"
   ]
  },
  {
   "cell_type": "code",
   "execution_count": null,
   "metadata": {
    "collapsed": true
   },
   "outputs": [],
   "source": []
  }
 ],
 "metadata": {
  "anaconda-cloud": {},
  "kernelspec": {
   "display_name": "py_uni_start",
   "language": "python",
   "name": "python3"
  },
  "language_info": {
   "codemirror_mode": {
    "name": "ipython",
    "version": 3
   },
   "file_extension": ".py",
   "mimetype": "text/x-python",
   "name": "python",
   "nbconvert_exporter": "python",
   "pygments_lexer": "ipython3",
   "version": "3.5.2"
  }
 },
 "nbformat": 4,
 "nbformat_minor": 1
}
